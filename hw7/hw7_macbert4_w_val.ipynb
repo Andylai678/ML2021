{
 "cells": [
  {
   "cell_type": "markdown",
   "metadata": {
    "id": "xvSGDbExff_I"
   },
   "source": [
    "# **Homework 7 - Bert (Question Answering)**\n",
    "\n",
    "If you have any questions, feel free to email us at ntu-ml-2021spring-ta@googlegroups.com\n",
    "\n",
    "\n",
    "\n",
    "Slide:    [Link](https://docs.google.com/presentation/d/1aQoWogAQo_xVJvMQMrGaYiWzuyfO0QyLLAhiMwFyS2w)　Kaggle: [Link](https://www.kaggle.com/c/ml2021-spring-hw7)　Data: [Link](https://drive.google.com/uc?id=1znKmX08v9Fygp-dgwo7BKiLIf2qL1FH1)\n",
    "\n",
    "\n"
   ]
  },
  {
   "cell_type": "markdown",
   "metadata": {
    "id": "WGOr_eS3wJJf"
   },
   "source": [
    "## Task description\n",
    "- Chinese Extractive Question Answering\n",
    "  - Input: Paragraph + Question\n",
    "  - Output: Answer\n",
    "\n",
    "- Objective: Learn how to fine tune a pretrained model on downstream task using transformers\n",
    "\n",
    "- Todo\n",
    "    - Fine tune a pretrained chinese BERT model\n",
    "    - Change hyperparameters (e.g. doc_stride)\n",
    "    - Apply linear learning rate decay\n",
    "    - Try other pretrained models\n",
    "    - Improve preprocessing\n",
    "    - Improve postprocessing\n",
    "- Training tips\n",
    "    - Automatic mixed precision\n",
    "    - Gradient accumulation\n",
    "    - Ensemble\n",
    "\n",
    "- Estimated training time (tesla t4 with automatic mixed precision enabled)\n",
    "    - Simple: 8mins\n",
    "    - Medium: 8mins\n",
    "    - Strong: 25mins\n",
    "    - Boss: 2hrs\n",
    "  "
   ]
  },
  {
   "cell_type": "markdown",
   "metadata": {
    "id": "TJ1fSAJE2oaC"
   },
   "source": [
    "## Download Dataset"
   ]
  },
  {
   "cell_type": "code",
   "execution_count": null,
   "metadata": {
    "colab": {
     "base_uri": "https://localhost:8080/"
    },
    "id": "kRT9I2f3-ewi",
    "outputId": "8a213f93-0eee-4556-8c28-8a4dfe36b167"
   },
   "outputs": [
    {
     "name": "stdout",
     "output_type": "stream",
     "text": [
      "Wed May 19 12:05:39 2021       \n",
      "+-----------------------------------------------------------------------------+\n",
      "| NVIDIA-SMI 465.19.01    Driver Version: 460.32.03    CUDA Version: 11.2     |\n",
      "|-------------------------------+----------------------+----------------------+\n",
      "| GPU  Name        Persistence-M| Bus-Id        Disp.A | Volatile Uncorr. ECC |\n",
      "| Fan  Temp  Perf  Pwr:Usage/Cap|         Memory-Usage | GPU-Util  Compute M. |\n",
      "|                               |                      |               MIG M. |\n",
      "|===============================+======================+======================|\n",
      "|   0  Tesla V100-SXM2...  Off  | 00000000:00:04.0 Off |                    0 |\n",
      "| N/A   34C    P0    46W / 300W |      0MiB / 16160MiB |      0%      Default |\n",
      "|                               |                      |                  N/A |\n",
      "+-------------------------------+----------------------+----------------------+\n",
      "                                                                               \n",
      "+-----------------------------------------------------------------------------+\n",
      "| Processes:                                                                  |\n",
      "|  GPU   GI   CI        PID   Type   Process name                  GPU Memory |\n",
      "|        ID   ID                                                   Usage      |\n",
      "|=============================================================================|\n",
      "|  No running processes found                                                 |\n",
      "+-----------------------------------------------------------------------------+\n"
     ]
    }
   ],
   "source": [
    "!nvidia-smi"
   ]
  },
  {
   "cell_type": "code",
   "execution_count": null,
   "metadata": {
    "colab": {
     "base_uri": "https://localhost:8080/"
    },
    "id": "kFO9z-sWrpxl",
    "outputId": "4488f546-b56d-435c-e112-caf3b99d202b"
   },
   "outputs": [
    {
     "name": "stdout",
     "output_type": "stream",
     "text": [
      "Drive already mounted at /content/gdrive; to attempt to forcibly remount, call drive.mount(\"/content/gdrive\", force_remount=True).\n"
     ]
    }
   ],
   "source": [
    "from google.colab import drive\n",
    "drive.mount('/content/gdrive')"
   ]
  },
  {
   "cell_type": "code",
   "execution_count": null,
   "metadata": {
    "id": "AMklbkD-YO6A"
   },
   "outputs": [],
   "source": [
    "import os\n",
    "# your workspace in your drive\n",
    "workspace = 'ML2021-hw7'\n",
    "\n",
    "try:\n",
    "  os.chdir(os.path.join('/content/gdrive/MyDrive/', workspace))\n",
    "except:\n",
    "  os.makedirs(os.path.join('/content/gdrive/MyDrive/', workspace), exist_ok=True)\n",
    "  os.chdir(os.path.join('/content/gdrive/MyDrive/', workspace))"
   ]
  },
  {
   "cell_type": "code",
   "execution_count": null,
   "metadata": {
    "id": "YPrc4Eie9Yo5"
   },
   "outputs": [],
   "source": [
    "# Download link 1\n",
    "#!gdown --id '1znKmX08v9Fygp-dgwo7BKiLIf2qL1FH1' --output hw7_data.zip\n",
    "\n",
    "# Download Link 2 (if the above link fails) \n",
    "# !gdown --id '1pOu3FdPdvzielUZyggeD7KDnVy9iW1uC' --output hw7_data.zip\n",
    "\n",
    "#!unzip -o hw7_data.zip\n",
    "\n",
    "# For this HW, K80 < P4 < T4 < P100 <= T4(fp16) < V100\n",
    "#!nvidia-smi"
   ]
  },
  {
   "cell_type": "markdown",
   "metadata": {
    "id": "TevOvhC03m0h"
   },
   "source": [
    "## Install transformers\n",
    "\n",
    "Documentation for the toolkit:　https://huggingface.co/transformers/"
   ]
  },
  {
   "cell_type": "code",
   "execution_count": null,
   "metadata": {
    "colab": {
     "base_uri": "https://localhost:8080/"
    },
    "id": "tbxWFX_jpDom",
    "outputId": "ed2f03c0-2605-4614-be50-e119bc39a4d2"
   },
   "outputs": [
    {
     "name": "stdout",
     "output_type": "stream",
     "text": [
      "Requirement already satisfied: transformers==4.5.0 in /usr/local/lib/python3.7/dist-packages (4.5.0)\n",
      "Requirement already satisfied: tqdm>=4.27 in /usr/local/lib/python3.7/dist-packages (from transformers==4.5.0) (4.41.1)\n",
      "Requirement already satisfied: filelock in /usr/local/lib/python3.7/dist-packages (from transformers==4.5.0) (3.0.12)\n",
      "Requirement already satisfied: regex!=2019.12.17 in /usr/local/lib/python3.7/dist-packages (from transformers==4.5.0) (2019.12.20)\n",
      "Requirement already satisfied: importlib-metadata; python_version < \"3.8\" in /usr/local/lib/python3.7/dist-packages (from transformers==4.5.0) (4.0.1)\n",
      "Requirement already satisfied: numpy>=1.17 in /usr/local/lib/python3.7/dist-packages (from transformers==4.5.0) (1.19.5)\n",
      "Requirement already satisfied: packaging in /usr/local/lib/python3.7/dist-packages (from transformers==4.5.0) (20.9)\n",
      "Requirement already satisfied: tokenizers<0.11,>=0.10.1 in /usr/local/lib/python3.7/dist-packages (from transformers==4.5.0) (0.10.2)\n",
      "Requirement already satisfied: requests in /usr/local/lib/python3.7/dist-packages (from transformers==4.5.0) (2.23.0)\n",
      "Requirement already satisfied: sacremoses in /usr/local/lib/python3.7/dist-packages (from transformers==4.5.0) (0.0.45)\n",
      "Requirement already satisfied: zipp>=0.5 in /usr/local/lib/python3.7/dist-packages (from importlib-metadata; python_version < \"3.8\"->transformers==4.5.0) (3.4.1)\n",
      "Requirement already satisfied: typing-extensions>=3.6.4; python_version < \"3.8\" in /usr/local/lib/python3.7/dist-packages (from importlib-metadata; python_version < \"3.8\"->transformers==4.5.0) (3.7.4.3)\n",
      "Requirement already satisfied: pyparsing>=2.0.2 in /usr/local/lib/python3.7/dist-packages (from packaging->transformers==4.5.0) (2.4.7)\n",
      "Requirement already satisfied: urllib3!=1.25.0,!=1.25.1,<1.26,>=1.21.1 in /usr/local/lib/python3.7/dist-packages (from requests->transformers==4.5.0) (1.24.3)\n",
      "Requirement already satisfied: idna<3,>=2.5 in /usr/local/lib/python3.7/dist-packages (from requests->transformers==4.5.0) (2.10)\n",
      "Requirement already satisfied: chardet<4,>=3.0.2 in /usr/local/lib/python3.7/dist-packages (from requests->transformers==4.5.0) (3.0.4)\n",
      "Requirement already satisfied: certifi>=2017.4.17 in /usr/local/lib/python3.7/dist-packages (from requests->transformers==4.5.0) (2020.12.5)\n",
      "Requirement already satisfied: click in /usr/local/lib/python3.7/dist-packages (from sacremoses->transformers==4.5.0) (8.0.0)\n",
      "Requirement already satisfied: joblib in /usr/local/lib/python3.7/dist-packages (from sacremoses->transformers==4.5.0) (1.0.1)\n",
      "Requirement already satisfied: six in /usr/local/lib/python3.7/dist-packages (from sacremoses->transformers==4.5.0) (1.15.0)\n"
     ]
    }
   ],
   "source": [
    "# You are allowed to change version of transformers or use other toolkits\n",
    "!pip install transformers==4.5.0"
   ]
  },
  {
   "cell_type": "markdown",
   "metadata": {
    "id": "8dKM4yCh4LI_"
   },
   "source": [
    "## Import Packages"
   ]
  },
  {
   "cell_type": "code",
   "execution_count": null,
   "metadata": {
    "id": "WOTHHtWJoahe"
   },
   "outputs": [],
   "source": [
    "import json\n",
    "import numpy as np\n",
    "import random\n",
    "import torch\n",
    "from torch.utils.data import DataLoader, Dataset \n",
    "from transformers import AdamW, BertForQuestionAnswering, BertTokenizer, get_linear_schedule_with_warmup, BertModel, BertTokenizerFast\n",
    "\n",
    "from tqdm.auto import tqdm\n",
    "\n",
    "device = \"cuda\" if torch.cuda.is_available() else \"cpu\"\n",
    "\n",
    "# Fix random seed for reproducibility\n",
    "def same_seeds(seed):\n",
    "\t  torch.manual_seed(seed)\n",
    "\t  if torch.cuda.is_available():\n",
    "\t\t    torch.cuda.manual_seed(seed)\n",
    "\t\t    torch.cuda.manual_seed_all(seed)\n",
    "\t  np.random.seed(seed)\n",
    "\t  random.seed(seed)\n",
    "\t  torch.backends.cudnn.benchmark = False\n",
    "\t  torch.backends.cudnn.deterministic = True\n",
    "same_seeds(0)"
   ]
  },
  {
   "cell_type": "code",
   "execution_count": null,
   "metadata": {
    "colab": {
     "base_uri": "https://localhost:8080/"
    },
    "id": "7pBtSZP1SKQO",
    "outputId": "8bd0f71a-41b1-4c3d-902d-700819031905"
   },
   "outputs": [
    {
     "name": "stdout",
     "output_type": "stream",
     "text": [
      "Requirement already satisfied: accelerate==0.2.0 in /usr/local/lib/python3.7/dist-packages (0.2.0)\n",
      "Requirement already satisfied: torch>=1.4.0 in /usr/local/lib/python3.7/dist-packages (from accelerate==0.2.0) (1.8.1+cu101)\n",
      "Requirement already satisfied: pyaml>=20.4.0 in /usr/local/lib/python3.7/dist-packages (from accelerate==0.2.0) (20.4.0)\n",
      "Requirement already satisfied: typing-extensions in /usr/local/lib/python3.7/dist-packages (from torch>=1.4.0->accelerate==0.2.0) (3.7.4.3)\n",
      "Requirement already satisfied: numpy in /usr/local/lib/python3.7/dist-packages (from torch>=1.4.0->accelerate==0.2.0) (1.19.5)\n",
      "Requirement already satisfied: PyYAML in /usr/local/lib/python3.7/dist-packages (from pyaml>=20.4.0->accelerate==0.2.0) (3.13)\n"
     ]
    }
   ],
   "source": [
    "# Change \"fp16_training\" to True to support automatic mixed precision training (fp16)\t\n",
    "fp16_training = True\n",
    "\n",
    "if fp16_training:\n",
    "    !pip install accelerate==0.2.0\n",
    "    from accelerate import Accelerator\n",
    "    accelerator = Accelerator(fp16=True)\n",
    "    device = accelerator.device\n",
    "\n",
    "# Documentation for the toolkit:  https://huggingface.co/docs/accelerate/"
   ]
  },
  {
   "cell_type": "markdown",
   "metadata": {
    "id": "2YgXHuVLp_6j"
   },
   "source": [
    "## Load Model and Tokenizer\n",
    "\n",
    "\n",
    "\n",
    "\n",
    " "
   ]
  },
  {
   "cell_type": "code",
   "execution_count": null,
   "metadata": {
    "colab": {
     "base_uri": "https://localhost:8080/"
    },
    "id": "xyBCYGjAp3ym",
    "outputId": "82d2c1d9-2384-4490-8eae-f26c85ad0e9e"
   },
   "outputs": [
    {
     "name": "stderr",
     "output_type": "stream",
     "text": [
      "Some weights of the model checkpoint at hfl/chinese-macbert-large were not used when initializing BertForQuestionAnswering: ['cls.predictions.bias', 'cls.predictions.transform.dense.weight', 'cls.predictions.transform.dense.bias', 'cls.predictions.transform.LayerNorm.weight', 'cls.predictions.transform.LayerNorm.bias', 'cls.predictions.decoder.weight', 'cls.predictions.decoder.bias', 'cls.seq_relationship.weight', 'cls.seq_relationship.bias']\n",
      "- This IS expected if you are initializing BertForQuestionAnswering from the checkpoint of a model trained on another task or with another architecture (e.g. initializing a BertForSequenceClassification model from a BertForPreTraining model).\n",
      "- This IS NOT expected if you are initializing BertForQuestionAnswering from the checkpoint of a model that you expect to be exactly identical (initializing a BertForSequenceClassification model from a BertForSequenceClassification model).\n",
      "Some weights of BertForQuestionAnswering were not initialized from the model checkpoint at hfl/chinese-macbert-large and are newly initialized: ['qa_outputs.weight', 'qa_outputs.bias']\n",
      "You should probably TRAIN this model on a down-stream task to be able to use it for predictions and inference.\n"
     ]
    }
   ],
   "source": [
    "tokenizer = BertTokenizerFast.from_pretrained(\"hfl/chinese-macbert-large\")\n",
    "model = BertForQuestionAnswering.from_pretrained(\"hfl/chinese-macbert-large\").to(device)\n",
    "\n",
    "# You can safely ignore the warning message (it pops up because new prediction heads for QA are initialized randomly)"
   ]
  },
  {
   "cell_type": "markdown",
   "metadata": {
    "id": "3Td-GTmk5OW4"
   },
   "source": [
    "## Read Data\n",
    "\n",
    "- Training set: 26935 QA pairs\n",
    "- Dev set: 3523  QA pairs\n",
    "- Test set: 3492  QA pairs\n",
    "\n",
    "- {train/dev/test}_questions:\t\n",
    "  - List of dicts with the following keys:\n",
    "   - id (int)\n",
    "   - paragraph_id (int)\n",
    "   - question_text (string)\n",
    "   - answer_text (string)\n",
    "   - answer_start (int)\n",
    "   - answer_end (int)\n",
    "- {train/dev/test}_paragraphs: \n",
    "  - List of strings\n",
    "  - paragraph_ids in questions correspond to indexs in paragraphs\n",
    "  - A paragraph may be used by several questions "
   ]
  },
  {
   "cell_type": "code",
   "execution_count": null,
   "metadata": {
    "id": "NvX7hlepogvu"
   },
   "outputs": [],
   "source": [
    "def read_data(file):\n",
    "    with open(file, 'r', encoding=\"utf-8\") as reader:\n",
    "        data = json.load(reader)\n",
    "    return data[\"questions\"], data[\"paragraphs\"]\n",
    "\n",
    "train_questions, train_paragraphs = read_data(\"hw7_train.json\")\n",
    "dev_questions, dev_paragraphs = read_data(\"hw7_dev.json\")\n",
    "test_questions, test_paragraphs = read_data(\"hw7_test.json\")"
   ]
  },
  {
   "cell_type": "code",
   "execution_count": null,
   "metadata": {
    "colab": {
     "base_uri": "https://localhost:8080/"
    },
    "id": "3FgKuiV3gnoe",
    "outputId": "c9f2c765-46c5-4891-ec2f-0de7577fa05e"
   },
   "outputs": [
    {
     "name": "stdout",
     "output_type": "stream",
     "text": [
      "['✔']\n",
      "['●']\n",
      "['✦']\n",
      "['☺']\n",
      "['☆']\n"
     ]
    }
   ],
   "source": [
    "print(tokenizer.tokenize('✔', add_special_tokens=False))\n",
    "print(tokenizer.tokenize('●', add_special_tokens=False))\n",
    "print(tokenizer.tokenize('✦', add_special_tokens=False))\n",
    "print(tokenizer.tokenize('☺', add_special_tokens=False))\n",
    "print(tokenizer.tokenize('☆', add_special_tokens=False))\n",
    "\n",
    "# 取代' ' \\u200b \\u200e \\u3000 # 是為了讓tokenize前後index一致\n",
    "# 用✔ ● ✦ ☺ ☆ 當佔位符，沒有意義\n",
    "#train_paragraphs = [i.replace(' ','✔').replace('\\u200b','✦').replace('\\u200e', '☺').replace('\\u3000', '☆').replace('#','●') for i in train_paragraphs]\n",
    "dev_paragraphs = [i.replace(' ','✔').replace('\\u200b','✦').replace('\\u200e', '☺').replace('\\u3000', '☆').replace('#','●') for i in dev_paragraphs]\n",
    "test_paragraphs = [i.replace(' ','✔').replace('\\u200b','✦').replace('\\u200e', '☺').replace('\\u3000', '☆').replace('#','●') for i in test_paragraphs]"
   ]
  },
  {
   "cell_type": "markdown",
   "metadata": {
    "id": "Fm0rpTHq0e4N"
   },
   "source": [
    "## Tokenize Data"
   ]
  },
  {
   "cell_type": "code",
   "execution_count": null,
   "metadata": {
    "id": "rTZ6B70Hoxie"
   },
   "outputs": [],
   "source": [
    "# Tokenize questions and paragraphs separately\n",
    "# 「add_special_tokens」 is set to False since special tokens will be added when tokenized questions and paragraphs are combined in datset __getitem__ \n",
    "\n",
    "train_questions_tokenized = tokenizer([train_question[\"question_text\"] for train_question in train_questions], add_special_tokens=False)\n",
    "dev_questions_tokenized = tokenizer([dev_question[\"question_text\"] for dev_question in dev_questions], add_special_tokens=False)\n",
    "test_questions_tokenized = tokenizer([test_question[\"question_text\"] for test_question in test_questions], add_special_tokens=False) \n",
    "\n",
    "train_paragraphs_tokenized = tokenizer(train_paragraphs, add_special_tokens=False)\n",
    "dev_paragraphs_tokenized = tokenizer(dev_paragraphs, add_special_tokens=False)\n",
    "test_paragraphs_tokenized = tokenizer(test_paragraphs, add_special_tokens=False)\n",
    "\n",
    "# You can safely ignore the warning message as tokenized sequences will be futher processed in datset __getitem__ before passing to model"
   ]
  },
  {
   "cell_type": "markdown",
   "metadata": {
    "id": "Ws8c8_4d5UCI"
   },
   "source": [
    "## Dataset and Dataloader"
   ]
  },
  {
   "cell_type": "code",
   "execution_count": null,
   "metadata": {
    "id": "Xjooag-Swnuh"
   },
   "outputs": [],
   "source": [
    "class QA_Dataset(Dataset):\n",
    "    def __init__(self, split, questions, tokenized_questions, tokenized_paragraphs):\n",
    "        self.split = split\n",
    "        self.questions = questions\n",
    "        self.tokenized_questions = tokenized_questions\n",
    "        self.tokenized_paragraphs = tokenized_paragraphs\n",
    "        self.max_question_len = 40\n",
    "        self.max_paragraph_len = 350\n",
    "        \n",
    "        ##### TODO: Change value of doc_stride #####\n",
    "        self.doc_stride = 300\n",
    "\n",
    "        # Input sequence length = [CLS] + question + [SEP] + paragraph + [SEP]\n",
    "        self.max_seq_len = 1 + self.max_question_len + 1 + self.max_paragraph_len + 1\n",
    "\n",
    "    def __len__(self):\n",
    "        return len(self.questions)\n",
    "\n",
    "    def __getitem__(self, idx):\n",
    "        question = self.questions[idx]\n",
    "        tokenized_question = self.tokenized_questions[idx]\n",
    "        tokenized_paragraph = self.tokenized_paragraphs[question[\"paragraph_id\"]]\n",
    "\n",
    "        ##### TODO: Preprocessing #####\n",
    "        # Hint: How to prevent model from learning something it should not learn\n",
    "\n",
    "        if self.split == \"train\":\n",
    "            # Convert answer's start/end positions in paragraph_text to start/end positions in tokenized_paragraph  \n",
    "            answer_start_token = tokenized_paragraph.char_to_token(question[\"answer_start\"])\n",
    "            answer_end_token = tokenized_paragraph.char_to_token(question[\"answer_end\"])\n",
    "\n",
    "            # A single window is obtained by slicing the portion of paragraph containing the answer\n",
    "            mid = int((answer_start_token + answer_end_token) // (2+random.uniform(-1,1)))\n",
    "            paragraph_start = max(0, min(mid - self.max_paragraph_len // 2, len(tokenized_paragraph) - self.max_paragraph_len))\n",
    "            #if answer_start_token >  self.max_paragraph_len:\n",
    "            #    # paragraph_start 不能從0開始\n",
    "            #    paragraph_start = min(answer_start_token - self.max_paragraph_len // 2, len(tokenized_paragraph) - self.max_paragraph_len)\n",
    "            #else:\n",
    "            #    paragraph_start = 0\n",
    "            paragraph_end = paragraph_start + self.max_paragraph_len\n",
    "            \n",
    "\n",
    "            # Slice question/paragraph and add special tokens (101: CLS, 102: SEP)\n",
    "            input_ids_question = [101] + tokenized_question.ids[:self.max_question_len] + [102] \n",
    "            input_ids_paragraph = tokenized_paragraph.ids[paragraph_start : paragraph_end] + [102]\t\t\n",
    "            \n",
    "            # Convert answer's start/end positions in tokenized_paragraph to start/end positions in the window  \n",
    "            answer_start_token += len(input_ids_question) - paragraph_start\n",
    "            answer_end_token += len(input_ids_question) - paragraph_start\n",
    "            \n",
    "            # Pad sequence and obtain inputs to model \n",
    "            input_ids, token_type_ids, attention_mask = self.padding(input_ids_question, input_ids_paragraph)\n",
    "            return torch.tensor(input_ids), torch.tensor(token_type_ids), torch.tensor(attention_mask), answer_start_token, answer_end_token\n",
    "\n",
    "        # Validation/Testing\n",
    "        else:\n",
    "            input_ids_list, token_type_ids_list, attention_mask_list = [], [], []\n",
    "            \n",
    "            # Paragraph is split into several windows, each with start positions separated by step \"doc_stride\"\n",
    "            for i in range(0, len(tokenized_paragraph), self.doc_stride):\n",
    "                \n",
    "                # Slice question/paragraph and add special tokens (101: CLS, 102: SEP)\n",
    "                input_ids_question = [101] + tokenized_question.ids[:self.max_question_len] + [102]\n",
    "                input_ids_paragraph = tokenized_paragraph.ids[i : i + self.max_paragraph_len] + [102]\n",
    "                \n",
    "                # Pad sequence and obtain inputs to model\n",
    "                input_ids, token_type_ids, attention_mask = self.padding(input_ids_question, input_ids_paragraph)\n",
    "                \n",
    "                input_ids_list.append(input_ids)\n",
    "                token_type_ids_list.append(token_type_ids)\n",
    "                attention_mask_list.append(attention_mask)\n",
    "            \n",
    "            return torch.tensor(input_ids_list), torch.tensor(token_type_ids_list), torch.tensor(attention_mask_list)\n",
    "\n",
    "    def padding(self, input_ids_question, input_ids_paragraph):\n",
    "        # Pad zeros if sequence length is shorter than max_seq_len\n",
    "        padding_len = self.max_seq_len - len(input_ids_question) - len(input_ids_paragraph)\n",
    "        # Indices of input sequence tokens in the vocabulary\n",
    "        input_ids = input_ids_question + input_ids_paragraph + [0] * padding_len\n",
    "        # Segment token indices to indicate first and second portions of the inputs. Indices are selected in [0, 1]\n",
    "        token_type_ids = [0] * len(input_ids_question) + [1] * len(input_ids_paragraph) + [0] * padding_len\n",
    "        # Mask to avoid performing attention on padding token indices. Mask values selected in [0, 1]\n",
    "        attention_mask = [1] * (len(input_ids_question) + len(input_ids_paragraph)) + [0] * padding_len\n",
    "        \n",
    "        return input_ids, token_type_ids, attention_mask\n",
    "\n",
    "train_set = QA_Dataset(\"train\", train_questions, train_questions_tokenized, train_paragraphs_tokenized)\n",
    "dev_set = QA_Dataset(\"dev\", dev_questions, dev_questions_tokenized, dev_paragraphs_tokenized)\n",
    "test_set = QA_Dataset(\"test\", test_questions, test_questions_tokenized, test_paragraphs_tokenized)\n",
    "\n",
    "train_batch_size = 8\n",
    "\n",
    "# Note: Do NOT change batch size of dev_loader / test_loader !\n",
    "# Although batch size=1, it is actually a batch consisting of several windows from the same QA pair\n",
    "train_loader = DataLoader(train_set, batch_size=train_batch_size, shuffle=True, pin_memory=True)\n",
    "dev_loader = DataLoader(dev_set, batch_size=1, shuffle=False, pin_memory=True)\n",
    "test_loader = DataLoader(test_set, batch_size=1, shuffle=False, pin_memory=True)"
   ]
  },
  {
   "cell_type": "markdown",
   "metadata": {
    "id": "5_H1kqhR8CdM"
   },
   "source": [
    "## Function for Evaluation"
   ]
  },
  {
   "cell_type": "code",
   "execution_count": null,
   "metadata": {
    "id": "nqAQYOsfhL5c"
   },
   "outputs": [],
   "source": [
    "def index_before_tokenize(tokens, start, end):\n",
    "    char_count, new_start, new_end = 0, 512, 512\n",
    "    start_flag = 0\n",
    "    end_flag = 0\n",
    "        \n",
    "    for i, token in enumerate(tokens):\n",
    "        if token == '[UNK]' or token == '[CLS]' or token == '[SEP]':\n",
    "            if i == start:\n",
    "                new_start = char_count\n",
    "            if i == end:\n",
    "                new_end = char_count\n",
    "            char_count += 1\n",
    "        else:\n",
    "            for c in token:\n",
    "                if i == start and start_flag == 0:\n",
    "                    #print(token)\n",
    "                    new_start = char_count\n",
    "                    start_flag = 1\n",
    "                if i == end:\n",
    "                    #print(token)\n",
    "                    new_end = char_count\n",
    "                    end_flag = 1\n",
    "                if c != '#':\n",
    "                    char_count += 1\n",
    "    return new_start, new_end"
   ]
  },
  {
   "cell_type": "code",
   "execution_count": null,
   "metadata": {
    "id": "SqeA3PLPxOHu"
   },
   "outputs": [],
   "source": [
    "def evaluate(data, output, doc_stride=150, paragraph=None, paragraph_tokenized=None):\n",
    "    ##### TODO: Postprocessing #####\n",
    "    # There is a bug and room for improvement in postprocessing \n",
    "    # Hint: Open your prediction file to see what is wrong \n",
    "    \n",
    "    answer = ''\n",
    "    max_prob = float('-inf')\n",
    "    num_of_windows = data[0].shape[1]\n",
    "    \n",
    "    # index in the whole tokens (not just relative to window)\n",
    "    entire_start_index = 0\n",
    "    entire_end_index = 0\n",
    "    \n",
    "    for k in range(num_of_windows):\n",
    "        #print('window',k)\n",
    "        # Obtain answer by choosing the most probable start position / end position\n",
    "        mask = data[1][0][k].bool() &  data[2][0][k].bool() # token type & attention mask\n",
    "        masked_output_start = torch.masked_select(output.start_logits[k], mask)[:-1] # -1 is [SEP]\n",
    "        start_prob, start_index = torch.max(masked_output_start, dim=0)\n",
    "        masked_output_end = torch.masked_select(output.end_logits[k], mask)[start_index:-1] # -1 is [SEP]\n",
    "        #masked_output_end = torch.masked_select(output.end_logits[k], mask)[:-1] # -1 is [SEP]\n",
    "        end_prob, end_index = torch.max(masked_output_end, dim=0)\n",
    "        end_index += start_index \n",
    "        \n",
    "\n",
    "        # Probability of answer is calculated as sum of start_prob and end_prob\n",
    "        prob = start_prob + end_prob\n",
    "        masked_data = torch.masked_select(data[0][0][k], mask)[:-1] # -1 is [SEP]\n",
    "\n",
    "        # Replace answer if calculated probability is larger than previous windows\n",
    "        if (prob > max_prob) and (end_index - start_index <= 30) and (end_index > start_index):\n",
    "            max_prob = prob\n",
    "            entire_start_index = start_index.item() + doc_stride * k\n",
    "            entire_end_index = end_index.item() + doc_stride * k\n",
    "            #print('entire_start_index',entire_start_index)\n",
    "            #print('entire_end_index',entire_end_index)\n",
    "            # Convert tokens to chars (e.g. [1920, 7032] --> \"大 金\")\n",
    "            answer = tokenizer.decode(masked_data[start_index : end_index + 1])\n",
    "            # Remove spaces in answer (e.g. \"大 金\" --> \"大金\")\n",
    "            answer = answer.replace('✔', ' ').replace('✦','\\u200b').replace('☺','\\u200e').replace('☆','\\u3000').replace('●','#').replace(' ','')\n",
    "\n",
    "    \n",
    "    # if [UNK] in prediction, use orignal span of paragrah\n",
    "    if '[UNK]' in answer:\n",
    "        print('found [UNK] in prediction, using original text')\n",
    "        print('original prediction', answer)\n",
    "        # find the index of answer in the orinal paragrah\n",
    "\n",
    "        new_start, new_end = index_before_tokenize(tokens=paragraph_tokenized, \n",
    "                                                   start=entire_start_index, end=entire_end_index)\n",
    "        #print('new_start',new_start)\n",
    "        #print('new_end',new_end)\n",
    "        answer = paragraph[new_start:new_end+1]\n",
    "        answer = answer.replace('✔', ' ').replace('✦','\\u200b').replace('☺','\\u200e').replace('☆','\\u3000').replace('●','#')\n",
    "        print('final prediction',answer)\n",
    "\n",
    "            \n",
    "    \n",
    "    return answer"
   ]
  },
  {
   "cell_type": "markdown",
   "metadata": {
    "id": "rzHQit6eMnKG"
   },
   "source": [
    "## Training"
   ]
  },
  {
   "cell_type": "code",
   "execution_count": null,
   "metadata": {
    "colab": {
     "base_uri": "https://localhost:8080/",
     "height": 1000,
     "referenced_widgets": [
      "6aa56a020f954fa3841fad43c377ebb0",
      "2fe39fef77ae4380b36cad547d3eb765",
      "8bbd217710ac4cd098f69a764aabc926",
      "f499cb875fe34af19bf9e81ddb46a2c7",
      "06067d359be247608cda554a4390f97c",
      "36d2d19a573e45cca9a135fd13c61aa0",
      "0e2d26fc40904c0eac6c2172555c3c4a",
      "b9db30c81a5845438c2d5f217fea351a",
      "f2b5121e94e24aad9b232349400fffce",
      "6182e7084ba44f60aa3c20ba91e454a9",
      "a4e981498c5f4c168130bce1068572b4",
      "2fc0b7920a0a4651a37ea1c9fd10d5b5",
      "e6443de75146493ca19d9acbb8f3f35a",
      "531adcaf9c7941faa5cea33e1166161c",
      "9f0846085d7e4721beea24900c5d849e",
      "1bba68850d834879a4d5f652d242c27f",
      "e45011a3edd04c538fa3c0a573792f63",
      "baf092de374546a290a8e21f33aabdd8",
      "08adda29cc9d49f6b9a151d1eb381772",
      "3d83041a466c45c0901942476a0fb5ff",
      "af0c80b62cd64b9a9e5b6746fc2cf71d",
      "a2124df0532840c3a7a272e0219f79a8",
      "655c8c9eb7ff40ca81ff32cef48b537f",
      "81349e7bbea9448e893e6104ee1066d8"
     ]
    },
    "id": "3Q-B6ka7xoCM",
    "outputId": "4d22076d-60cb-401d-ca6a-5da99cf99ba4"
   },
   "outputs": [
    {
     "name": "stdout",
     "output_type": "stream",
     "text": [
      "total_steps 11424\n",
      "Start Training ...\n"
     ]
    },
    {
     "data": {
      "application/vnd.jupyter.widget-view+json": {
       "model_id": "6aa56a020f954fa3841fad43c377ebb0",
       "version_major": 2,
       "version_minor": 0
      },
      "text/plain": [
       "HBox(children=(FloatProgress(value=0.0, max=3808.0), HTML(value='')))"
      ]
     },
     "metadata": {
      "tags": []
     },
     "output_type": "display_data"
    },
    {
     "name": "stdout",
     "output_type": "stream",
     "text": [
      "Epoch 1 | Step 100 | loss = 2.701, acc = 0.300\n",
      "Epoch 1 | Step 200 | loss = 0.978, acc = 0.625\n",
      "Epoch 1 | Step 300 | loss = 0.757, acc = 0.695\n",
      "Epoch 1 | Step 400 | loss = 0.700, acc = 0.720\n",
      "Epoch 1 | Step 500 | loss = 0.753, acc = 0.711\n",
      "Epoch 1 | Step 600 | loss = 0.638, acc = 0.751\n",
      "Epoch 1 | Step 700 | loss = 0.619, acc = 0.755\n",
      "Epoch 1 | Step 800 | loss = 0.649, acc = 0.732\n",
      "Epoch 1 | Step 900 | loss = 0.572, acc = 0.740\n",
      "Epoch 1 | Step 1000 | loss = 0.581, acc = 0.749\n",
      "Epoch 1 | Step 1100 | loss = 0.599, acc = 0.764\n",
      "Epoch 1 | Step 1200 | loss = 0.527, acc = 0.761\n",
      "Epoch 1 | Step 1300 | loss = 0.535, acc = 0.767\n",
      "Epoch 1 | Step 1400 | loss = 0.589, acc = 0.770\n",
      "Epoch 1 | Step 1500 | loss = 0.529, acc = 0.784\n",
      "Epoch 1 | Step 1600 | loss = 0.635, acc = 0.746\n",
      "Epoch 1 | Step 1700 | loss = 0.565, acc = 0.780\n",
      "Epoch 1 | Step 1800 | loss = 0.504, acc = 0.787\n",
      "Epoch 1 | Step 1900 | loss = 0.577, acc = 0.785\n",
      "Epoch 1 | Step 2000 | loss = 0.560, acc = 0.787\n",
      "Epoch 1 | Step 2100 | loss = 0.555, acc = 0.781\n",
      "Epoch 1 | Step 2200 | loss = 0.580, acc = 0.775\n",
      "Epoch 1 | Step 2300 | loss = 0.481, acc = 0.803\n",
      "Epoch 1 | Step 2400 | loss = 0.502, acc = 0.772\n",
      "Epoch 1 | Step 2500 | loss = 0.506, acc = 0.782\n",
      "Epoch 1 | Step 2600 | loss = 0.532, acc = 0.781\n",
      "Epoch 1 | Step 2700 | loss = 0.545, acc = 0.790\n",
      "Epoch 1 | Step 2800 | loss = 0.530, acc = 0.767\n",
      "Epoch 1 | Step 2900 | loss = 0.492, acc = 0.804\n",
      "Epoch 1 | Step 3000 | loss = 0.501, acc = 0.795\n",
      "Epoch 1 | Step 3100 | loss = 0.551, acc = 0.792\n",
      "Epoch 1 | Step 3200 | loss = 0.435, acc = 0.815\n",
      "Epoch 1 | Step 3300 | loss = 0.477, acc = 0.811\n",
      "Epoch 1 | Step 3400 | loss = 0.455, acc = 0.820\n",
      "Epoch 1 | Step 3500 | loss = 0.463, acc = 0.834\n",
      "Epoch 1 | Step 3600 | loss = 0.479, acc = 0.795\n",
      "Epoch 1 | Step 3700 | loss = 0.430, acc = 0.806\n",
      "Epoch 1 | Step 3800 | loss = 0.470, acc = 0.811\n",
      "\n"
     ]
    },
    {
     "data": {
      "application/vnd.jupyter.widget-view+json": {
       "model_id": "f2b5121e94e24aad9b232349400fffce",
       "version_major": 2,
       "version_minor": 0
      },
      "text/plain": [
       "HBox(children=(FloatProgress(value=0.0, max=3808.0), HTML(value='')))"
      ]
     },
     "metadata": {
      "tags": []
     },
     "output_type": "display_data"
    },
    {
     "name": "stdout",
     "output_type": "stream",
     "text": [
      "Epoch 2 | Step 100 | loss = 0.272, acc = 0.864\n",
      "Epoch 2 | Step 200 | loss = 0.314, acc = 0.855\n",
      "Epoch 2 | Step 300 | loss = 0.301, acc = 0.859\n",
      "Epoch 2 | Step 400 | loss = 0.289, acc = 0.864\n",
      "Epoch 2 | Step 500 | loss = 0.277, acc = 0.869\n",
      "Epoch 2 | Step 600 | loss = 0.326, acc = 0.862\n",
      "Epoch 2 | Step 700 | loss = 0.330, acc = 0.877\n",
      "Epoch 2 | Step 800 | loss = 0.270, acc = 0.881\n",
      "Epoch 2 | Step 900 | loss = 0.272, acc = 0.875\n",
      "Epoch 2 | Step 1000 | loss = 0.277, acc = 0.852\n",
      "Epoch 2 | Step 1100 | loss = 0.254, acc = 0.886\n",
      "Epoch 2 | Step 1200 | loss = 0.261, acc = 0.881\n",
      "Epoch 2 | Step 1300 | loss = 0.288, acc = 0.874\n",
      "Epoch 2 | Step 1400 | loss = 0.307, acc = 0.866\n",
      "Epoch 2 | Step 1500 | loss = 0.280, acc = 0.857\n",
      "Epoch 2 | Step 1600 | loss = 0.260, acc = 0.870\n",
      "Epoch 2 | Step 1700 | loss = 0.292, acc = 0.875\n",
      "Epoch 2 | Step 1800 | loss = 0.307, acc = 0.869\n",
      "Epoch 2 | Step 1900 | loss = 0.285, acc = 0.874\n",
      "Epoch 2 | Step 2000 | loss = 0.305, acc = 0.864\n",
      "Epoch 2 | Step 2100 | loss = 0.249, acc = 0.874\n",
      "Epoch 2 | Step 2200 | loss = 0.293, acc = 0.877\n",
      "Epoch 2 | Step 2300 | loss = 0.274, acc = 0.869\n",
      "Epoch 2 | Step 2400 | loss = 0.275, acc = 0.859\n",
      "Epoch 2 | Step 2500 | loss = 0.266, acc = 0.876\n",
      "Epoch 2 | Step 2600 | loss = 0.260, acc = 0.879\n",
      "Epoch 2 | Step 2700 | loss = 0.343, acc = 0.856\n",
      "Epoch 2 | Step 2800 | loss = 0.308, acc = 0.862\n",
      "Epoch 2 | Step 2900 | loss = 0.259, acc = 0.879\n",
      "Epoch 2 | Step 3000 | loss = 0.254, acc = 0.876\n",
      "Epoch 2 | Step 3100 | loss = 0.292, acc = 0.855\n",
      "Epoch 2 | Step 3200 | loss = 0.249, acc = 0.895\n",
      "Epoch 2 | Step 3300 | loss = 0.280, acc = 0.870\n",
      "Epoch 2 | Step 3400 | loss = 0.222, acc = 0.886\n",
      "Epoch 2 | Step 3500 | loss = 0.254, acc = 0.884\n",
      "Epoch 2 | Step 3600 | loss = 0.291, acc = 0.868\n",
      "Epoch 2 | Step 3700 | loss = 0.239, acc = 0.894\n",
      "Epoch 2 | Step 3800 | loss = 0.266, acc = 0.886\n",
      "\n"
     ]
    },
    {
     "data": {
      "application/vnd.jupyter.widget-view+json": {
       "model_id": "e45011a3edd04c538fa3c0a573792f63",
       "version_major": 2,
       "version_minor": 0
      },
      "text/plain": [
       "HBox(children=(FloatProgress(value=0.0, max=3808.0), HTML(value='')))"
      ]
     },
     "metadata": {
      "tags": []
     },
     "output_type": "display_data"
    },
    {
     "name": "stdout",
     "output_type": "stream",
     "text": [
      "Epoch 3 | Step 100 | loss = 0.157, acc = 0.915\n",
      "Epoch 3 | Step 200 | loss = 0.184, acc = 0.922\n",
      "Epoch 3 | Step 300 | loss = 0.134, acc = 0.921\n",
      "Epoch 3 | Step 400 | loss = 0.161, acc = 0.921\n",
      "Epoch 3 | Step 500 | loss = 0.169, acc = 0.919\n",
      "Epoch 3 | Step 600 | loss = 0.182, acc = 0.925\n",
      "Epoch 3 | Step 700 | loss = 0.117, acc = 0.934\n",
      "Epoch 3 | Step 800 | loss = 0.156, acc = 0.926\n",
      "Epoch 3 | Step 900 | loss = 0.183, acc = 0.900\n",
      "Epoch 3 | Step 1000 | loss = 0.152, acc = 0.916\n",
      "Epoch 3 | Step 1100 | loss = 0.146, acc = 0.926\n",
      "Epoch 3 | Step 1200 | loss = 0.154, acc = 0.930\n",
      "Epoch 3 | Step 1300 | loss = 0.120, acc = 0.933\n",
      "Epoch 3 | Step 1400 | loss = 0.163, acc = 0.912\n",
      "Epoch 3 | Step 1500 | loss = 0.141, acc = 0.936\n",
      "Epoch 3 | Step 1600 | loss = 0.125, acc = 0.926\n",
      "Epoch 3 | Step 1700 | loss = 0.176, acc = 0.916\n",
      "Epoch 3 | Step 1800 | loss = 0.164, acc = 0.912\n",
      "Epoch 3 | Step 1900 | loss = 0.186, acc = 0.915\n",
      "Epoch 3 | Step 2000 | loss = 0.171, acc = 0.930\n",
      "Epoch 3 | Step 2100 | loss = 0.128, acc = 0.925\n",
      "Epoch 3 | Step 2200 | loss = 0.180, acc = 0.929\n",
      "Epoch 3 | Step 2300 | loss = 0.141, acc = 0.930\n",
      "Epoch 3 | Step 2400 | loss = 0.152, acc = 0.926\n",
      "Epoch 3 | Step 2500 | loss = 0.169, acc = 0.925\n",
      "Epoch 3 | Step 2600 | loss = 0.111, acc = 0.944\n",
      "Epoch 3 | Step 2700 | loss = 0.199, acc = 0.922\n",
      "Epoch 3 | Step 2800 | loss = 0.139, acc = 0.942\n",
      "Epoch 3 | Step 2900 | loss = 0.159, acc = 0.926\n",
      "Epoch 3 | Step 3000 | loss = 0.137, acc = 0.929\n",
      "Epoch 3 | Step 3100 | loss = 0.138, acc = 0.931\n",
      "Epoch 3 | Step 3200 | loss = 0.170, acc = 0.922\n",
      "Epoch 3 | Step 3300 | loss = 0.158, acc = 0.926\n",
      "Epoch 3 | Step 3400 | loss = 0.114, acc = 0.941\n",
      "Epoch 3 | Step 3500 | loss = 0.184, acc = 0.922\n",
      "Epoch 3 | Step 3600 | loss = 0.144, acc = 0.931\n",
      "Epoch 3 | Step 3700 | loss = 0.166, acc = 0.909\n",
      "Epoch 3 | Step 3800 | loss = 0.114, acc = 0.945\n",
      "\n",
      "Saving Model ...\n"
     ]
    }
   ],
   "source": [
    "num_epoch = 3\n",
    "validation = False\n",
    "logging_step = 100\n",
    "learning_rate = 1e-5\n",
    "doc_stride = 300\n",
    "# batch accumulation parameter\n",
    "# accum_iter = 4  \n",
    "\n",
    "optimizer = AdamW(model.parameters(), lr=learning_rate)\n",
    "\n",
    "if not validation:\n",
    "    dev_set = QA_Dataset(\"train\", dev_questions, dev_questions_tokenized, dev_paragraphs_tokenized)\n",
    "    train_set = torch.utils.data.ConcatDataset([train_set, dev_set])\n",
    "    train_loader = DataLoader(train_set, batch_size=train_batch_size, shuffle=True, pin_memory=True)\n",
    "\n",
    "if fp16_training:\n",
    "    model, optimizer, train_loader = accelerator.prepare(model, optimizer, train_loader) \n",
    "\n",
    "# Total number of training steps\n",
    "total_steps = len(train_loader) * num_epoch\n",
    "print('total_steps', total_steps)\n",
    "# Set up the learning rate scheduler\n",
    "scheduler = get_linear_schedule_with_warmup(optimizer, num_warmup_steps= 0, # Default value\n",
    "                                                num_training_steps=total_steps)\n",
    "\n",
    "\n",
    "    \n",
    "model.train()\n",
    "\n",
    "print(\"Start Training ...\")\n",
    "\n",
    "for epoch in range(num_epoch):\n",
    "    step = 1\n",
    "    train_loss = train_acc = 0\n",
    "    \n",
    "    for idx, data in enumerate(tqdm(train_loader)):\t\n",
    "        # Load all data into GPU\n",
    "        data = [i.to(device) for i in data]\n",
    "        \n",
    "        # Model inputs: input_ids, token_type_ids, attention_mask, start_positions, end_positions (Note: only \"input_ids\" is mandatory)\n",
    "        # Model outputs: start_logits, end_logits, loss (return when start_positions/end_positions are provided)  \n",
    "        output = model(input_ids=data[0], token_type_ids=data[1], attention_mask=data[2], start_positions=data[3], end_positions=data[4])\n",
    "\n",
    "\n",
    "        # Choose the most probable start position / end position\n",
    "        start_index = torch.argmax(output.start_logits, dim=1)\n",
    "        end_index = torch.argmax(output.end_logits, dim=1)\n",
    "        \n",
    "        # Prediction is correct only if both start_index and end_index are correct\n",
    "        train_acc += ((start_index == data[3]) & (end_index == data[4])).float().mean()\n",
    "        train_loss += output.loss\n",
    "        \n",
    "        # normalize loss to account for batch accumulation\n",
    "        #output.loss = output.loss / accum_iter\n",
    "\n",
    "        if fp16_training:\n",
    "            accelerator.backward(output.loss)\n",
    "        else:\n",
    "            output.loss.backward()\n",
    "        \n",
    "        #if ((idx + 1) % accum_iter == 0) or (idx + 1 == len(train_loader)):\n",
    "        optimizer.step()\n",
    "        ##### TODO: Apply linear learning rate decay #####\n",
    "        scheduler.step()\n",
    "        optimizer.zero_grad()\n",
    "        \n",
    "        step += 1\n",
    "        \n",
    "        \n",
    "        # Print training loss and accuracy over past logging step\n",
    "        if step % logging_step == 0:\n",
    "            print(f\"Epoch {epoch + 1} | Step {step} | loss = {train_loss.item() / logging_step:.3f}, acc = {train_acc / logging_step:.3f}\")\n",
    "            train_loss = train_acc = 0\n",
    "\n",
    "    if validation:\n",
    "        print(\"Evaluating Dev Set ...\")\n",
    "        model.eval()\n",
    "        with torch.no_grad():\n",
    "            dev_acc = 0\n",
    "            for i, data in enumerate(tqdm(dev_loader)):\n",
    "                output = model(input_ids=data[0].squeeze(dim=0).to(device), token_type_ids=data[1].squeeze(dim=0).to(device),\n",
    "                       attention_mask=data[2].squeeze(dim=0).to(device))\n",
    "                # prediction is correct only if answer text exactly matches\n",
    "                dev_acc += evaluate(data, output, doc_stride, dev_paragraphs[dev_questions[i]['paragraph_id']],\n",
    "                    dev_paragraphs_tokenized[dev_questions[i]['paragraph_id']].tokens) == dev_questions[i][\"answer_text\"]\n",
    "            print(f\"Validation | Epoch {epoch + 1} | acc = {dev_acc / len(dev_loader):.3f}\")\n",
    "        model.train()\n",
    "\n",
    "# Save a model and its configuration file to the directory 「saved_model」 \n",
    "# i.e. there are two files under the direcory 「saved_model」: 「pytorch_model.bin」 and 「config.json」\n",
    "# Saved model can be re-loaded using 「model = BertForQuestionAnswering.from_pretrained(\"saved_model\")」\n",
    "print(\"Saving Model ...\")\n",
    "model_save_dir = \"saved_model/macbert4_val\" \n",
    "model.save_pretrained(model_save_dir)"
   ]
  },
  {
   "cell_type": "markdown",
   "metadata": {
    "id": "kMmdLOKBMsdE"
   },
   "source": [
    "## Testing"
   ]
  },
  {
   "cell_type": "code",
   "execution_count": null,
   "metadata": {
    "colab": {
     "base_uri": "https://localhost:8080/",
     "height": 1000,
     "referenced_widgets": [
      "f100a84d1ab94466bae59b217074d295",
      "641228177f9141c1a39e51677b2bd414",
      "9fece99e7b9a48ac86d522bf664d65ed",
      "bab4ab4f1016404ea80cfa82852be0b1",
      "3eed780862cf4ea2b16b283665b69c2a",
      "dee412740413477b809c35ca70b7cac0",
      "bcc6638a817c4776866e67224dbe9e55",
      "fe377f492f644159a5ee40acf7359e2c"
     ]
    },
    "id": "U5scNKC9xz0C",
    "outputId": "8d78788e-3eb4-4032-ff4b-8badf17cfbd4"
   },
   "outputs": [
    {
     "name": "stdout",
     "output_type": "stream",
     "text": [
      "Evaluating Test Set ...\n"
     ]
    },
    {
     "data": {
      "application/vnd.jupyter.widget-view+json": {
       "model_id": "f100a84d1ab94466bae59b217074d295",
       "version_major": 2,
       "version_minor": 0
      },
      "text/plain": [
       "HBox(children=(FloatProgress(value=0.0, max=3493.0), HTML(value='')))"
      ]
     },
     "metadata": {
      "tags": []
     },
     "output_type": "display_data"
    },
    {
     "name": "stdout",
     "output_type": "stream",
     "text": [
      "found [UNK] in prediction, using original text\n",
      "original prediction 溥[UNK]\n",
      "final prediction 溥儁\n",
      "found [UNK] in prediction, using original text\n",
      "original prediction 目前沒有觀察到任何語言純[UNK]以力道來區分不同輔音\n",
      "final prediction 目前沒有觀察到任何語言純綷以力道來區分不同輔音\n",
      "found [UNK] in prediction, using original text\n",
      "original prediction [UNK]人國\n",
      "final prediction 荇人國\n",
      "found [UNK] in prediction, using original text\n",
      "original prediction 馬[UNK]\n",
      "final prediction 馬馼\n",
      "found [UNK] in prediction, using original text\n",
      "original prediction 東晉常[UNK]\n",
      "final prediction 東晉常璩\n",
      "found [UNK] in prediction, using original text\n",
      "original prediction [UNK]稻\n",
      "final prediction 秈稻\n",
      "found [UNK] in prediction, using original text\n",
      "original prediction 白[UNK]紀滅絕事件\n",
      "final prediction 白堊紀滅絕事件\n",
      "found [UNK] in prediction, using original text\n",
      "original prediction 抗佝[UNK]病維他命\n",
      "final prediction 抗佝僂病維他命\n",
      "found [UNK] in prediction, using original text\n",
      "original prediction 杭州[UNK]橋機場\n",
      "final prediction 杭州筧橋機場\n",
      "found [UNK] in prediction, using original text\n",
      "original prediction 蔡[UNK]\n",
      "final prediction 蔡鍔\n",
      "found [UNK] in prediction, using original text\n",
      "original prediction 丁[UNK]\n",
      "final prediction 丁旿\n",
      "found [UNK] in prediction, using original text\n",
      "original prediction 隋[UNK]帝\n",
      "final prediction 隋煬帝\n",
      "found [UNK] in prediction, using original text\n",
      "original prediction 胡季[UNK]\n",
      "final prediction 胡季犛\n",
      "found [UNK] in prediction, using original text\n",
      "original prediction 其英文縮寫首字母為「[UNK]·ㄎㄟ·ㄨㄞ」\n",
      "final prediction 其英文縮寫首字母為「ㄟㄙ·ㄎㄟ·ㄨㄞ\n",
      "found [UNK] in prediction, using original text\n",
      "original prediction 鯨魚座·優[UNK]\n",
      "final prediction 鯨魚座·優咇\n",
      "found [UNK] in prediction, using original text\n",
      "original prediction 梁[UNK]\n",
      "final prediction 梁鵠\n",
      "found [UNK] in prediction, using original text\n",
      "original prediction [UNK]靼海峽\n",
      "final prediction 韃靼海峽\n",
      "found [UNK] in prediction, using original text\n",
      "original prediction 白[UNK]紀末滅絕事件\n",
      "final prediction 白堊紀末滅絕事件\n",
      "found [UNK] in prediction, using original text\n",
      "original prediction 侏[UNK]紀\n",
      "final prediction 侏儸紀\n",
      "found [UNK] in prediction, using original text\n",
      "original prediction 克里米亞[UNK]靼人\n",
      "final prediction 克里米亞韃靼人\n",
      "found [UNK] in prediction, using original text\n",
      "original prediction [UNK]糯\n",
      "final prediction 秈糯\n",
      "found [UNK] in prediction, using original text\n",
      "original prediction 白[UNK]紀中期\n",
      "final prediction 白堊紀中期\n",
      "\n",
      "Completed! Result is in /content/gdrive/MyDrive/result_macbert4_val.csv\n"
     ]
    }
   ],
   "source": [
    "print(\"Evaluating Test Set ...\")\n",
    "\n",
    "result = []\n",
    "\n",
    "model.eval()\n",
    "with torch.no_grad():\n",
    "    for i, data in enumerate(tqdm(test_loader)):\n",
    "        output = model(input_ids=data[0].squeeze(dim=0).to(device), token_type_ids=data[1].squeeze(dim=0).to(device),\n",
    "                       attention_mask=data[2].squeeze(dim=0).to(device))\n",
    "        result.append(evaluate(data, output, doc_stride, test_paragraphs[test_questions[i]['paragraph_id']],\n",
    "                               test_paragraphs_tokenized[test_questions[i]['paragraph_id']].tokens))\n",
    "\n",
    "result_file = \"/content/gdrive/MyDrive/result_macbert4_val.csv\"\n",
    "with open(result_file, 'w') as f:\t\n",
    "\t  f.write(\"ID,Answer\\n\")\n",
    "\t  for i, test_question in enumerate(test_questions):\n",
    "        # Replace commas in answers with empty strings (since csv is separated by comma)\n",
    "        # Answers in kaggle are processed in the same way\n",
    "\t\t    f.write(f\"{test_question['id']},{result[i].replace(',','')}\\n\")\n",
    "\n",
    "print(f\"Completed! Result is in {result_file}\")"
   ]
  },
  {
   "cell_type": "markdown",
   "metadata": {},
   "source": [
    "## Kaggle 0.83810"
   ]
  },
  {
   "cell_type": "markdown",
   "metadata": {
    "id": "uYNnYHVHX1Rc"
   },
   "source": [
    "# Reference\n",
    "1. I modify the sample code from NTU machine learning course"
   ]
  }
 ],
 "metadata": {
  "accelerator": "GPU",
  "colab": {
   "collapsed_sections": [],
   "machine_shape": "hm",
   "name": "hw7_macbert_val838",
   "provenance": []
  },
  "kernelspec": {
   "display_name": "Python 3",
   "language": "python",
   "name": "python3"
  },
  "language_info": {
   "codemirror_mode": {
    "name": "ipython",
    "version": 3
   },
   "file_extension": ".py",
   "mimetype": "text/x-python",
   "name": "python",
   "nbconvert_exporter": "python",
   "pygments_lexer": "ipython3",
   "version": "3.7.6"
  },
  "widgets": {
   "application/vnd.jupyter.widget-state+json": {
    "06067d359be247608cda554a4390f97c": {
     "model_module": "@jupyter-widgets/controls",
     "model_name": "ProgressStyleModel",
     "state": {
      "_model_module": "@jupyter-widgets/controls",
      "_model_module_version": "1.5.0",
      "_model_name": "ProgressStyleModel",
      "_view_count": null,
      "_view_module": "@jupyter-widgets/base",
      "_view_module_version": "1.2.0",
      "_view_name": "StyleView",
      "bar_color": null,
      "description_width": "initial"
     }
    },
    "08adda29cc9d49f6b9a151d1eb381772": {
     "model_module": "@jupyter-widgets/controls",
     "model_name": "FloatProgressModel",
     "state": {
      "_dom_classes": [],
      "_model_module": "@jupyter-widgets/controls",
      "_model_module_version": "1.5.0",
      "_model_name": "FloatProgressModel",
      "_view_count": null,
      "_view_module": "@jupyter-widgets/controls",
      "_view_module_version": "1.5.0",
      "_view_name": "ProgressView",
      "bar_style": "success",
      "description": "100%",
      "description_tooltip": null,
      "layout": "IPY_MODEL_a2124df0532840c3a7a272e0219f79a8",
      "max": 3808,
      "min": 0,
      "orientation": "horizontal",
      "style": "IPY_MODEL_af0c80b62cd64b9a9e5b6746fc2cf71d",
      "value": 3808
     }
    },
    "0e2d26fc40904c0eac6c2172555c3c4a": {
     "model_module": "@jupyter-widgets/controls",
     "model_name": "DescriptionStyleModel",
     "state": {
      "_model_module": "@jupyter-widgets/controls",
      "_model_module_version": "1.5.0",
      "_model_name": "DescriptionStyleModel",
      "_view_count": null,
      "_view_module": "@jupyter-widgets/base",
      "_view_module_version": "1.2.0",
      "_view_name": "StyleView",
      "description_width": ""
     }
    },
    "1bba68850d834879a4d5f652d242c27f": {
     "model_module": "@jupyter-widgets/base",
     "model_name": "LayoutModel",
     "state": {
      "_model_module": "@jupyter-widgets/base",
      "_model_module_version": "1.2.0",
      "_model_name": "LayoutModel",
      "_view_count": null,
      "_view_module": "@jupyter-widgets/base",
      "_view_module_version": "1.2.0",
      "_view_name": "LayoutView",
      "align_content": null,
      "align_items": null,
      "align_self": null,
      "border": null,
      "bottom": null,
      "display": null,
      "flex": null,
      "flex_flow": null,
      "grid_area": null,
      "grid_auto_columns": null,
      "grid_auto_flow": null,
      "grid_auto_rows": null,
      "grid_column": null,
      "grid_gap": null,
      "grid_row": null,
      "grid_template_areas": null,
      "grid_template_columns": null,
      "grid_template_rows": null,
      "height": null,
      "justify_content": null,
      "justify_items": null,
      "left": null,
      "margin": null,
      "max_height": null,
      "max_width": null,
      "min_height": null,
      "min_width": null,
      "object_fit": null,
      "object_position": null,
      "order": null,
      "overflow": null,
      "overflow_x": null,
      "overflow_y": null,
      "padding": null,
      "right": null,
      "top": null,
      "visibility": null,
      "width": null
     }
    },
    "2fc0b7920a0a4651a37ea1c9fd10d5b5": {
     "model_module": "@jupyter-widgets/controls",
     "model_name": "HTMLModel",
     "state": {
      "_dom_classes": [],
      "_model_module": "@jupyter-widgets/controls",
      "_model_module_version": "1.5.0",
      "_model_name": "HTMLModel",
      "_view_count": null,
      "_view_module": "@jupyter-widgets/controls",
      "_view_module_version": "1.5.0",
      "_view_name": "HTMLView",
      "description": "",
      "description_tooltip": null,
      "layout": "IPY_MODEL_1bba68850d834879a4d5f652d242c27f",
      "placeholder": "​",
      "style": "IPY_MODEL_9f0846085d7e4721beea24900c5d849e",
      "value": " 3808/3808 [18:22&lt;00:00,  3.45it/s]"
     }
    },
    "2fe39fef77ae4380b36cad547d3eb765": {
     "model_module": "@jupyter-widgets/base",
     "model_name": "LayoutModel",
     "state": {
      "_model_module": "@jupyter-widgets/base",
      "_model_module_version": "1.2.0",
      "_model_name": "LayoutModel",
      "_view_count": null,
      "_view_module": "@jupyter-widgets/base",
      "_view_module_version": "1.2.0",
      "_view_name": "LayoutView",
      "align_content": null,
      "align_items": null,
      "align_self": null,
      "border": null,
      "bottom": null,
      "display": null,
      "flex": null,
      "flex_flow": null,
      "grid_area": null,
      "grid_auto_columns": null,
      "grid_auto_flow": null,
      "grid_auto_rows": null,
      "grid_column": null,
      "grid_gap": null,
      "grid_row": null,
      "grid_template_areas": null,
      "grid_template_columns": null,
      "grid_template_rows": null,
      "height": null,
      "justify_content": null,
      "justify_items": null,
      "left": null,
      "margin": null,
      "max_height": null,
      "max_width": null,
      "min_height": null,
      "min_width": null,
      "object_fit": null,
      "object_position": null,
      "order": null,
      "overflow": null,
      "overflow_x": null,
      "overflow_y": null,
      "padding": null,
      "right": null,
      "top": null,
      "visibility": null,
      "width": null
     }
    },
    "36d2d19a573e45cca9a135fd13c61aa0": {
     "model_module": "@jupyter-widgets/base",
     "model_name": "LayoutModel",
     "state": {
      "_model_module": "@jupyter-widgets/base",
      "_model_module_version": "1.2.0",
      "_model_name": "LayoutModel",
      "_view_count": null,
      "_view_module": "@jupyter-widgets/base",
      "_view_module_version": "1.2.0",
      "_view_name": "LayoutView",
      "align_content": null,
      "align_items": null,
      "align_self": null,
      "border": null,
      "bottom": null,
      "display": null,
      "flex": null,
      "flex_flow": null,
      "grid_area": null,
      "grid_auto_columns": null,
      "grid_auto_flow": null,
      "grid_auto_rows": null,
      "grid_column": null,
      "grid_gap": null,
      "grid_row": null,
      "grid_template_areas": null,
      "grid_template_columns": null,
      "grid_template_rows": null,
      "height": null,
      "justify_content": null,
      "justify_items": null,
      "left": null,
      "margin": null,
      "max_height": null,
      "max_width": null,
      "min_height": null,
      "min_width": null,
      "object_fit": null,
      "object_position": null,
      "order": null,
      "overflow": null,
      "overflow_x": null,
      "overflow_y": null,
      "padding": null,
      "right": null,
      "top": null,
      "visibility": null,
      "width": null
     }
    },
    "3d83041a466c45c0901942476a0fb5ff": {
     "model_module": "@jupyter-widgets/controls",
     "model_name": "HTMLModel",
     "state": {
      "_dom_classes": [],
      "_model_module": "@jupyter-widgets/controls",
      "_model_module_version": "1.5.0",
      "_model_name": "HTMLModel",
      "_view_count": null,
      "_view_module": "@jupyter-widgets/controls",
      "_view_module_version": "1.5.0",
      "_view_name": "HTMLView",
      "description": "",
      "description_tooltip": null,
      "layout": "IPY_MODEL_81349e7bbea9448e893e6104ee1066d8",
      "placeholder": "​",
      "style": "IPY_MODEL_655c8c9eb7ff40ca81ff32cef48b537f",
      "value": " 3808/3808 [18:22&lt;00:00,  3.46it/s]"
     }
    },
    "3eed780862cf4ea2b16b283665b69c2a": {
     "model_module": "@jupyter-widgets/controls",
     "model_name": "ProgressStyleModel",
     "state": {
      "_model_module": "@jupyter-widgets/controls",
      "_model_module_version": "1.5.0",
      "_model_name": "ProgressStyleModel",
      "_view_count": null,
      "_view_module": "@jupyter-widgets/base",
      "_view_module_version": "1.2.0",
      "_view_name": "StyleView",
      "bar_color": null,
      "description_width": "initial"
     }
    },
    "531adcaf9c7941faa5cea33e1166161c": {
     "model_module": "@jupyter-widgets/base",
     "model_name": "LayoutModel",
     "state": {
      "_model_module": "@jupyter-widgets/base",
      "_model_module_version": "1.2.0",
      "_model_name": "LayoutModel",
      "_view_count": null,
      "_view_module": "@jupyter-widgets/base",
      "_view_module_version": "1.2.0",
      "_view_name": "LayoutView",
      "align_content": null,
      "align_items": null,
      "align_self": null,
      "border": null,
      "bottom": null,
      "display": null,
      "flex": null,
      "flex_flow": null,
      "grid_area": null,
      "grid_auto_columns": null,
      "grid_auto_flow": null,
      "grid_auto_rows": null,
      "grid_column": null,
      "grid_gap": null,
      "grid_row": null,
      "grid_template_areas": null,
      "grid_template_columns": null,
      "grid_template_rows": null,
      "height": null,
      "justify_content": null,
      "justify_items": null,
      "left": null,
      "margin": null,
      "max_height": null,
      "max_width": null,
      "min_height": null,
      "min_width": null,
      "object_fit": null,
      "object_position": null,
      "order": null,
      "overflow": null,
      "overflow_x": null,
      "overflow_y": null,
      "padding": null,
      "right": null,
      "top": null,
      "visibility": null,
      "width": null
     }
    },
    "6182e7084ba44f60aa3c20ba91e454a9": {
     "model_module": "@jupyter-widgets/base",
     "model_name": "LayoutModel",
     "state": {
      "_model_module": "@jupyter-widgets/base",
      "_model_module_version": "1.2.0",
      "_model_name": "LayoutModel",
      "_view_count": null,
      "_view_module": "@jupyter-widgets/base",
      "_view_module_version": "1.2.0",
      "_view_name": "LayoutView",
      "align_content": null,
      "align_items": null,
      "align_self": null,
      "border": null,
      "bottom": null,
      "display": null,
      "flex": null,
      "flex_flow": null,
      "grid_area": null,
      "grid_auto_columns": null,
      "grid_auto_flow": null,
      "grid_auto_rows": null,
      "grid_column": null,
      "grid_gap": null,
      "grid_row": null,
      "grid_template_areas": null,
      "grid_template_columns": null,
      "grid_template_rows": null,
      "height": null,
      "justify_content": null,
      "justify_items": null,
      "left": null,
      "margin": null,
      "max_height": null,
      "max_width": null,
      "min_height": null,
      "min_width": null,
      "object_fit": null,
      "object_position": null,
      "order": null,
      "overflow": null,
      "overflow_x": null,
      "overflow_y": null,
      "padding": null,
      "right": null,
      "top": null,
      "visibility": null,
      "width": null
     }
    },
    "641228177f9141c1a39e51677b2bd414": {
     "model_module": "@jupyter-widgets/base",
     "model_name": "LayoutModel",
     "state": {
      "_model_module": "@jupyter-widgets/base",
      "_model_module_version": "1.2.0",
      "_model_name": "LayoutModel",
      "_view_count": null,
      "_view_module": "@jupyter-widgets/base",
      "_view_module_version": "1.2.0",
      "_view_name": "LayoutView",
      "align_content": null,
      "align_items": null,
      "align_self": null,
      "border": null,
      "bottom": null,
      "display": null,
      "flex": null,
      "flex_flow": null,
      "grid_area": null,
      "grid_auto_columns": null,
      "grid_auto_flow": null,
      "grid_auto_rows": null,
      "grid_column": null,
      "grid_gap": null,
      "grid_row": null,
      "grid_template_areas": null,
      "grid_template_columns": null,
      "grid_template_rows": null,
      "height": null,
      "justify_content": null,
      "justify_items": null,
      "left": null,
      "margin": null,
      "max_height": null,
      "max_width": null,
      "min_height": null,
      "min_width": null,
      "object_fit": null,
      "object_position": null,
      "order": null,
      "overflow": null,
      "overflow_x": null,
      "overflow_y": null,
      "padding": null,
      "right": null,
      "top": null,
      "visibility": null,
      "width": null
     }
    },
    "655c8c9eb7ff40ca81ff32cef48b537f": {
     "model_module": "@jupyter-widgets/controls",
     "model_name": "DescriptionStyleModel",
     "state": {
      "_model_module": "@jupyter-widgets/controls",
      "_model_module_version": "1.5.0",
      "_model_name": "DescriptionStyleModel",
      "_view_count": null,
      "_view_module": "@jupyter-widgets/base",
      "_view_module_version": "1.2.0",
      "_view_name": "StyleView",
      "description_width": ""
     }
    },
    "6aa56a020f954fa3841fad43c377ebb0": {
     "model_module": "@jupyter-widgets/controls",
     "model_name": "HBoxModel",
     "state": {
      "_dom_classes": [],
      "_model_module": "@jupyter-widgets/controls",
      "_model_module_version": "1.5.0",
      "_model_name": "HBoxModel",
      "_view_count": null,
      "_view_module": "@jupyter-widgets/controls",
      "_view_module_version": "1.5.0",
      "_view_name": "HBoxView",
      "box_style": "",
      "children": [
       "IPY_MODEL_8bbd217710ac4cd098f69a764aabc926",
       "IPY_MODEL_f499cb875fe34af19bf9e81ddb46a2c7"
      ],
      "layout": "IPY_MODEL_2fe39fef77ae4380b36cad547d3eb765"
     }
    },
    "81349e7bbea9448e893e6104ee1066d8": {
     "model_module": "@jupyter-widgets/base",
     "model_name": "LayoutModel",
     "state": {
      "_model_module": "@jupyter-widgets/base",
      "_model_module_version": "1.2.0",
      "_model_name": "LayoutModel",
      "_view_count": null,
      "_view_module": "@jupyter-widgets/base",
      "_view_module_version": "1.2.0",
      "_view_name": "LayoutView",
      "align_content": null,
      "align_items": null,
      "align_self": null,
      "border": null,
      "bottom": null,
      "display": null,
      "flex": null,
      "flex_flow": null,
      "grid_area": null,
      "grid_auto_columns": null,
      "grid_auto_flow": null,
      "grid_auto_rows": null,
      "grid_column": null,
      "grid_gap": null,
      "grid_row": null,
      "grid_template_areas": null,
      "grid_template_columns": null,
      "grid_template_rows": null,
      "height": null,
      "justify_content": null,
      "justify_items": null,
      "left": null,
      "margin": null,
      "max_height": null,
      "max_width": null,
      "min_height": null,
      "min_width": null,
      "object_fit": null,
      "object_position": null,
      "order": null,
      "overflow": null,
      "overflow_x": null,
      "overflow_y": null,
      "padding": null,
      "right": null,
      "top": null,
      "visibility": null,
      "width": null
     }
    },
    "8bbd217710ac4cd098f69a764aabc926": {
     "model_module": "@jupyter-widgets/controls",
     "model_name": "FloatProgressModel",
     "state": {
      "_dom_classes": [],
      "_model_module": "@jupyter-widgets/controls",
      "_model_module_version": "1.5.0",
      "_model_name": "FloatProgressModel",
      "_view_count": null,
      "_view_module": "@jupyter-widgets/controls",
      "_view_module_version": "1.5.0",
      "_view_name": "ProgressView",
      "bar_style": "success",
      "description": "100%",
      "description_tooltip": null,
      "layout": "IPY_MODEL_36d2d19a573e45cca9a135fd13c61aa0",
      "max": 3808,
      "min": 0,
      "orientation": "horizontal",
      "style": "IPY_MODEL_06067d359be247608cda554a4390f97c",
      "value": 3808
     }
    },
    "9f0846085d7e4721beea24900c5d849e": {
     "model_module": "@jupyter-widgets/controls",
     "model_name": "DescriptionStyleModel",
     "state": {
      "_model_module": "@jupyter-widgets/controls",
      "_model_module_version": "1.5.0",
      "_model_name": "DescriptionStyleModel",
      "_view_count": null,
      "_view_module": "@jupyter-widgets/base",
      "_view_module_version": "1.2.0",
      "_view_name": "StyleView",
      "description_width": ""
     }
    },
    "9fece99e7b9a48ac86d522bf664d65ed": {
     "model_module": "@jupyter-widgets/controls",
     "model_name": "FloatProgressModel",
     "state": {
      "_dom_classes": [],
      "_model_module": "@jupyter-widgets/controls",
      "_model_module_version": "1.5.0",
      "_model_name": "FloatProgressModel",
      "_view_count": null,
      "_view_module": "@jupyter-widgets/controls",
      "_view_module_version": "1.5.0",
      "_view_name": "ProgressView",
      "bar_style": "success",
      "description": "100%",
      "description_tooltip": null,
      "layout": "IPY_MODEL_dee412740413477b809c35ca70b7cac0",
      "max": 3493,
      "min": 0,
      "orientation": "horizontal",
      "style": "IPY_MODEL_3eed780862cf4ea2b16b283665b69c2a",
      "value": 3493
     }
    },
    "a2124df0532840c3a7a272e0219f79a8": {
     "model_module": "@jupyter-widgets/base",
     "model_name": "LayoutModel",
     "state": {
      "_model_module": "@jupyter-widgets/base",
      "_model_module_version": "1.2.0",
      "_model_name": "LayoutModel",
      "_view_count": null,
      "_view_module": "@jupyter-widgets/base",
      "_view_module_version": "1.2.0",
      "_view_name": "LayoutView",
      "align_content": null,
      "align_items": null,
      "align_self": null,
      "border": null,
      "bottom": null,
      "display": null,
      "flex": null,
      "flex_flow": null,
      "grid_area": null,
      "grid_auto_columns": null,
      "grid_auto_flow": null,
      "grid_auto_rows": null,
      "grid_column": null,
      "grid_gap": null,
      "grid_row": null,
      "grid_template_areas": null,
      "grid_template_columns": null,
      "grid_template_rows": null,
      "height": null,
      "justify_content": null,
      "justify_items": null,
      "left": null,
      "margin": null,
      "max_height": null,
      "max_width": null,
      "min_height": null,
      "min_width": null,
      "object_fit": null,
      "object_position": null,
      "order": null,
      "overflow": null,
      "overflow_x": null,
      "overflow_y": null,
      "padding": null,
      "right": null,
      "top": null,
      "visibility": null,
      "width": null
     }
    },
    "a4e981498c5f4c168130bce1068572b4": {
     "model_module": "@jupyter-widgets/controls",
     "model_name": "FloatProgressModel",
     "state": {
      "_dom_classes": [],
      "_model_module": "@jupyter-widgets/controls",
      "_model_module_version": "1.5.0",
      "_model_name": "FloatProgressModel",
      "_view_count": null,
      "_view_module": "@jupyter-widgets/controls",
      "_view_module_version": "1.5.0",
      "_view_name": "ProgressView",
      "bar_style": "success",
      "description": "100%",
      "description_tooltip": null,
      "layout": "IPY_MODEL_531adcaf9c7941faa5cea33e1166161c",
      "max": 3808,
      "min": 0,
      "orientation": "horizontal",
      "style": "IPY_MODEL_e6443de75146493ca19d9acbb8f3f35a",
      "value": 3808
     }
    },
    "af0c80b62cd64b9a9e5b6746fc2cf71d": {
     "model_module": "@jupyter-widgets/controls",
     "model_name": "ProgressStyleModel",
     "state": {
      "_model_module": "@jupyter-widgets/controls",
      "_model_module_version": "1.5.0",
      "_model_name": "ProgressStyleModel",
      "_view_count": null,
      "_view_module": "@jupyter-widgets/base",
      "_view_module_version": "1.2.0",
      "_view_name": "StyleView",
      "bar_color": null,
      "description_width": "initial"
     }
    },
    "b9db30c81a5845438c2d5f217fea351a": {
     "model_module": "@jupyter-widgets/base",
     "model_name": "LayoutModel",
     "state": {
      "_model_module": "@jupyter-widgets/base",
      "_model_module_version": "1.2.0",
      "_model_name": "LayoutModel",
      "_view_count": null,
      "_view_module": "@jupyter-widgets/base",
      "_view_module_version": "1.2.0",
      "_view_name": "LayoutView",
      "align_content": null,
      "align_items": null,
      "align_self": null,
      "border": null,
      "bottom": null,
      "display": null,
      "flex": null,
      "flex_flow": null,
      "grid_area": null,
      "grid_auto_columns": null,
      "grid_auto_flow": null,
      "grid_auto_rows": null,
      "grid_column": null,
      "grid_gap": null,
      "grid_row": null,
      "grid_template_areas": null,
      "grid_template_columns": null,
      "grid_template_rows": null,
      "height": null,
      "justify_content": null,
      "justify_items": null,
      "left": null,
      "margin": null,
      "max_height": null,
      "max_width": null,
      "min_height": null,
      "min_width": null,
      "object_fit": null,
      "object_position": null,
      "order": null,
      "overflow": null,
      "overflow_x": null,
      "overflow_y": null,
      "padding": null,
      "right": null,
      "top": null,
      "visibility": null,
      "width": null
     }
    },
    "bab4ab4f1016404ea80cfa82852be0b1": {
     "model_module": "@jupyter-widgets/controls",
     "model_name": "HTMLModel",
     "state": {
      "_dom_classes": [],
      "_model_module": "@jupyter-widgets/controls",
      "_model_module_version": "1.5.0",
      "_model_name": "HTMLModel",
      "_view_count": null,
      "_view_module": "@jupyter-widgets/controls",
      "_view_module_version": "1.5.0",
      "_view_name": "HTMLView",
      "description": "",
      "description_tooltip": null,
      "layout": "IPY_MODEL_fe377f492f644159a5ee40acf7359e2c",
      "placeholder": "​",
      "style": "IPY_MODEL_bcc6638a817c4776866e67224dbe9e55",
      "value": " 3493/3493 [01:57&lt;00:00, 29.68it/s]"
     }
    },
    "baf092de374546a290a8e21f33aabdd8": {
     "model_module": "@jupyter-widgets/base",
     "model_name": "LayoutModel",
     "state": {
      "_model_module": "@jupyter-widgets/base",
      "_model_module_version": "1.2.0",
      "_model_name": "LayoutModel",
      "_view_count": null,
      "_view_module": "@jupyter-widgets/base",
      "_view_module_version": "1.2.0",
      "_view_name": "LayoutView",
      "align_content": null,
      "align_items": null,
      "align_self": null,
      "border": null,
      "bottom": null,
      "display": null,
      "flex": null,
      "flex_flow": null,
      "grid_area": null,
      "grid_auto_columns": null,
      "grid_auto_flow": null,
      "grid_auto_rows": null,
      "grid_column": null,
      "grid_gap": null,
      "grid_row": null,
      "grid_template_areas": null,
      "grid_template_columns": null,
      "grid_template_rows": null,
      "height": null,
      "justify_content": null,
      "justify_items": null,
      "left": null,
      "margin": null,
      "max_height": null,
      "max_width": null,
      "min_height": null,
      "min_width": null,
      "object_fit": null,
      "object_position": null,
      "order": null,
      "overflow": null,
      "overflow_x": null,
      "overflow_y": null,
      "padding": null,
      "right": null,
      "top": null,
      "visibility": null,
      "width": null
     }
    },
    "bcc6638a817c4776866e67224dbe9e55": {
     "model_module": "@jupyter-widgets/controls",
     "model_name": "DescriptionStyleModel",
     "state": {
      "_model_module": "@jupyter-widgets/controls",
      "_model_module_version": "1.5.0",
      "_model_name": "DescriptionStyleModel",
      "_view_count": null,
      "_view_module": "@jupyter-widgets/base",
      "_view_module_version": "1.2.0",
      "_view_name": "StyleView",
      "description_width": ""
     }
    },
    "dee412740413477b809c35ca70b7cac0": {
     "model_module": "@jupyter-widgets/base",
     "model_name": "LayoutModel",
     "state": {
      "_model_module": "@jupyter-widgets/base",
      "_model_module_version": "1.2.0",
      "_model_name": "LayoutModel",
      "_view_count": null,
      "_view_module": "@jupyter-widgets/base",
      "_view_module_version": "1.2.0",
      "_view_name": "LayoutView",
      "align_content": null,
      "align_items": null,
      "align_self": null,
      "border": null,
      "bottom": null,
      "display": null,
      "flex": null,
      "flex_flow": null,
      "grid_area": null,
      "grid_auto_columns": null,
      "grid_auto_flow": null,
      "grid_auto_rows": null,
      "grid_column": null,
      "grid_gap": null,
      "grid_row": null,
      "grid_template_areas": null,
      "grid_template_columns": null,
      "grid_template_rows": null,
      "height": null,
      "justify_content": null,
      "justify_items": null,
      "left": null,
      "margin": null,
      "max_height": null,
      "max_width": null,
      "min_height": null,
      "min_width": null,
      "object_fit": null,
      "object_position": null,
      "order": null,
      "overflow": null,
      "overflow_x": null,
      "overflow_y": null,
      "padding": null,
      "right": null,
      "top": null,
      "visibility": null,
      "width": null
     }
    },
    "e45011a3edd04c538fa3c0a573792f63": {
     "model_module": "@jupyter-widgets/controls",
     "model_name": "HBoxModel",
     "state": {
      "_dom_classes": [],
      "_model_module": "@jupyter-widgets/controls",
      "_model_module_version": "1.5.0",
      "_model_name": "HBoxModel",
      "_view_count": null,
      "_view_module": "@jupyter-widgets/controls",
      "_view_module_version": "1.5.0",
      "_view_name": "HBoxView",
      "box_style": "",
      "children": [
       "IPY_MODEL_08adda29cc9d49f6b9a151d1eb381772",
       "IPY_MODEL_3d83041a466c45c0901942476a0fb5ff"
      ],
      "layout": "IPY_MODEL_baf092de374546a290a8e21f33aabdd8"
     }
    },
    "e6443de75146493ca19d9acbb8f3f35a": {
     "model_module": "@jupyter-widgets/controls",
     "model_name": "ProgressStyleModel",
     "state": {
      "_model_module": "@jupyter-widgets/controls",
      "_model_module_version": "1.5.0",
      "_model_name": "ProgressStyleModel",
      "_view_count": null,
      "_view_module": "@jupyter-widgets/base",
      "_view_module_version": "1.2.0",
      "_view_name": "StyleView",
      "bar_color": null,
      "description_width": "initial"
     }
    },
    "f100a84d1ab94466bae59b217074d295": {
     "model_module": "@jupyter-widgets/controls",
     "model_name": "HBoxModel",
     "state": {
      "_dom_classes": [],
      "_model_module": "@jupyter-widgets/controls",
      "_model_module_version": "1.5.0",
      "_model_name": "HBoxModel",
      "_view_count": null,
      "_view_module": "@jupyter-widgets/controls",
      "_view_module_version": "1.5.0",
      "_view_name": "HBoxView",
      "box_style": "",
      "children": [
       "IPY_MODEL_9fece99e7b9a48ac86d522bf664d65ed",
       "IPY_MODEL_bab4ab4f1016404ea80cfa82852be0b1"
      ],
      "layout": "IPY_MODEL_641228177f9141c1a39e51677b2bd414"
     }
    },
    "f2b5121e94e24aad9b232349400fffce": {
     "model_module": "@jupyter-widgets/controls",
     "model_name": "HBoxModel",
     "state": {
      "_dom_classes": [],
      "_model_module": "@jupyter-widgets/controls",
      "_model_module_version": "1.5.0",
      "_model_name": "HBoxModel",
      "_view_count": null,
      "_view_module": "@jupyter-widgets/controls",
      "_view_module_version": "1.5.0",
      "_view_name": "HBoxView",
      "box_style": "",
      "children": [
       "IPY_MODEL_a4e981498c5f4c168130bce1068572b4",
       "IPY_MODEL_2fc0b7920a0a4651a37ea1c9fd10d5b5"
      ],
      "layout": "IPY_MODEL_6182e7084ba44f60aa3c20ba91e454a9"
     }
    },
    "f499cb875fe34af19bf9e81ddb46a2c7": {
     "model_module": "@jupyter-widgets/controls",
     "model_name": "HTMLModel",
     "state": {
      "_dom_classes": [],
      "_model_module": "@jupyter-widgets/controls",
      "_model_module_version": "1.5.0",
      "_model_name": "HTMLModel",
      "_view_count": null,
      "_view_module": "@jupyter-widgets/controls",
      "_view_module_version": "1.5.0",
      "_view_name": "HTMLView",
      "description": "",
      "description_tooltip": null,
      "layout": "IPY_MODEL_b9db30c81a5845438c2d5f217fea351a",
      "placeholder": "​",
      "style": "IPY_MODEL_0e2d26fc40904c0eac6c2172555c3c4a",
      "value": " 3808/3808 [18:23&lt;00:00,  3.45it/s]"
     }
    },
    "fe377f492f644159a5ee40acf7359e2c": {
     "model_module": "@jupyter-widgets/base",
     "model_name": "LayoutModel",
     "state": {
      "_model_module": "@jupyter-widgets/base",
      "_model_module_version": "1.2.0",
      "_model_name": "LayoutModel",
      "_view_count": null,
      "_view_module": "@jupyter-widgets/base",
      "_view_module_version": "1.2.0",
      "_view_name": "LayoutView",
      "align_content": null,
      "align_items": null,
      "align_self": null,
      "border": null,
      "bottom": null,
      "display": null,
      "flex": null,
      "flex_flow": null,
      "grid_area": null,
      "grid_auto_columns": null,
      "grid_auto_flow": null,
      "grid_auto_rows": null,
      "grid_column": null,
      "grid_gap": null,
      "grid_row": null,
      "grid_template_areas": null,
      "grid_template_columns": null,
      "grid_template_rows": null,
      "height": null,
      "justify_content": null,
      "justify_items": null,
      "left": null,
      "margin": null,
      "max_height": null,
      "max_width": null,
      "min_height": null,
      "min_width": null,
      "object_fit": null,
      "object_position": null,
      "order": null,
      "overflow": null,
      "overflow_x": null,
      "overflow_y": null,
      "padding": null,
      "right": null,
      "top": null,
      "visibility": null,
      "width": null
     }
    }
   }
  }
 },
 "nbformat": 4,
 "nbformat_minor": 4
}
