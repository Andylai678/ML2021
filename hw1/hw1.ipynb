{
 "cells": [
  {
   "cell_type": "code",
   "execution_count": 1,
   "metadata": {},
   "outputs": [],
   "source": [
    "tr_path = 'covid.train.csv'  # path to training data\n",
    "tt_path = 'covid.test.csv'   # path to testing data"
   ]
  },
  {
   "cell_type": "code",
   "execution_count": 2,
   "metadata": {},
   "outputs": [],
   "source": [
    "# PyTorch\n",
    "import torch\n",
    "import torch.nn as nn\n",
    "from torch.utils.data import Dataset, DataLoader\n",
    "\n",
    "# For data preprocess\n",
    "import numpy as np\n",
    "import csv\n",
    "import os\n",
    "\n",
    "# For plotting\n",
    "import matplotlib.pyplot as plt\n",
    "from matplotlib.pyplot import figure\n",
    "\n",
    "# For feature selection\n",
    "from sklearn.feature_selection import SelectKBest\n",
    "from sklearn.feature_selection import mutual_info_regression"
   ]
  },
  {
   "cell_type": "code",
   "execution_count": 3,
   "metadata": {},
   "outputs": [],
   "source": [
    "def get_device():\n",
    "    ''' Get device (if GPU is available, use GPU) '''\n",
    "    return 'cuda' if torch.cuda.is_available() else 'cpu'\n",
    "\n",
    "def plot_learning_curve(loss_record, title=''):\n",
    "    ''' Plot learning curve of your DNN (train & dev loss) '''\n",
    "    total_steps = len(loss_record['train'])\n",
    "    x_1 = range(total_steps)\n",
    "    figure(figsize=(6, 4))\n",
    "    plt.plot(x_1, loss_record['train'], c='tab:red', label='train')\n",
    "    if len(loss_record['dev'])!=0:\n",
    "        x_2 = x_1[::len(loss_record['train']) // len(loss_record['dev'])]\n",
    "        plt.plot(x_2, loss_record['dev'], c='tab:cyan', label='dev')\n",
    "    plt.ylim(0.0, 20.)\n",
    "    plt.xlabel('Training steps')\n",
    "    plt.ylabel('MSE loss')\n",
    "    plt.title('Learning curve of {}'.format(title))\n",
    "    plt.legend()\n",
    "    plt.show()\n",
    "\n",
    "\n",
    "def plot_pred(dv_set, model, device, lim=35., preds=None, targets=None):\n",
    "    ''' Plot prediction of your DNN '''\n",
    "    if preds is None or targets is None:\n",
    "        model.eval()\n",
    "        preds, targets = [], []\n",
    "        for x, y in dv_set:\n",
    "            x, y = x.to(device), y.to(device)\n",
    "            with torch.no_grad():\n",
    "                pred = model(x)\n",
    "                preds.append(pred.detach().cpu())\n",
    "                targets.append(y.detach().cpu())\n",
    "        preds = torch.cat(preds, dim=0).numpy()\n",
    "        targets = torch.cat(targets, dim=0).numpy()\n",
    "\n",
    "    figure(figsize=(5, 5))\n",
    "    plt.scatter(targets, preds, c='r', alpha=0.5)\n",
    "    plt.plot([-0.2, lim], [-0.2, lim], c='b')\n",
    "    plt.xlim(-0.2, lim)\n",
    "    plt.ylim(-0.2, lim)\n",
    "    plt.xlabel('ground truth value')\n",
    "    plt.ylabel('predicted value')\n",
    "    plt.title('Ground Truth v.s. Prediction')\n",
    "    plt.show()"
   ]
  },
  {
   "cell_type": "code",
   "execution_count": 4,
   "metadata": {},
   "outputs": [],
   "source": [
    "class COVID19Dataset(Dataset):\n",
    "    ''' Dataset for loading and preprocessing the COVID19 dataset '''\n",
    "    def __init__(self,\n",
    "                 path,\n",
    "                 mode='train',\n",
    "                 target_only=False):\n",
    "        self.mode = mode\n",
    "\n",
    "        # Read data into numpy arrays\n",
    "        with open(path, 'r') as fp:\n",
    "            data = list(csv.reader(fp))\n",
    "            data = np.array(data[1:])[:, 1:].astype(float)\n",
    "\n",
    "        \n",
    "        if not target_only:\n",
    "            feats = list(range(93))\n",
    "        else:\n",
    "            # TODO: Using 40 states & 2 tested_positive features (indices = 57 & 75)       \n",
    "            feats = [40, 41, 42, 43, 57, 58, 59, 60, 61, 75, 76, 77, 78, 79] # sklean mutual info\n",
    "\n",
    "            \n",
    "        if mode == 'test':\n",
    "            # Testing data\n",
    "            # data: 893 x 93 (40 states + day 1 (18) + day 2 (18) + day 3 (17))\n",
    "            data = data[:, feats]\n",
    "            self.data = torch.FloatTensor(data)\n",
    "        else:\n",
    "            # Training data (train/dev sets)\n",
    "            # data: 2700 x 94 (40 states + day 1 (18) + day 2 (18) + day 3 (18))\n",
    "            target = data[:, -1]\n",
    "            data = data[:, feats]\n",
    "            # 整個train+val一起mean/std\n",
    "            \n",
    "            self.mean = torch.FloatTensor(data).mean(dim=0, keepdim=True)\n",
    "            self.std = torch.FloatTensor(data).std(dim=0, keepdim=True)\n",
    "        \n",
    "                \n",
    "            # Splitting training data into train & dev sets\n",
    "            if mode == 'train':\n",
    "                indices = [i for i in range(len(data)) if i % 5 != 0]\n",
    "                \n",
    "            elif mode == 'dev':\n",
    "                indices = [i for i in range(len(data)) if i % 5 == 0]\n",
    "\n",
    "\n",
    "            # Convert data into PyTorch tensors\n",
    "            self.data = torch.FloatTensor(data[indices])\n",
    "            self.target = torch.FloatTensor(target[indices])\n",
    "\n",
    "\n",
    "        self.dim = self.data.shape[1]\n",
    "\n",
    "        print('Finished reading the {} set of COVID19 Dataset ({} samples found, each dim = {})'\n",
    "              .format(mode, len(self.data), self.dim))\n",
    "\n",
    "    def __getitem__(self, index):\n",
    "        # Returns one sample at a time\n",
    "        if self.mode in ['train', 'dev']:\n",
    "            # For training\n",
    "            return self.data[index], self.target[index]\n",
    "        else:\n",
    "            # For testing (no target)\n",
    "            return self.data[index]\n",
    "\n",
    "    def __len__(self):\n",
    "        # Returns the size of the dataset\n",
    "        return len(self.data)\n",
    "    \n",
    "    def normalization(self, mean=None, std=None):\n",
    "        # Normalize features (you may remove this part to see what will happen)\n",
    "        # The mean and standard variance of training data will be reused to normalize testing data.\n",
    "        if self.mode == 'train' or self.mode =='dev':\n",
    "            mean = self.mean\n",
    "            std = self.std \n",
    "            self.data =  (self.data-mean) / std\n",
    "            \n",
    "        else:\n",
    "            self.data =  (self.data-mean) / std\n",
    "            \n",
    "        return mean, std"
   ]
  },
  {
   "cell_type": "code",
   "execution_count": 5,
   "metadata": {},
   "outputs": [],
   "source": [
    "def prep_dataloader(path, mode, batch_size, n_jobs=0, target_only=False, mean=None, std=None):\n",
    "    ''' Generates a dataset, then is put into a dataloader. '''\n",
    "    dataset = COVID19Dataset(path, mode=mode, target_only=target_only)  # Construct dataset\n",
    "    mean, std = dataset.normalization(mean, std)\n",
    "    dataloader = DataLoader(\n",
    "        dataset, batch_size,\n",
    "        shuffle=(mode == 'train'), drop_last=False,\n",
    "        num_workers=n_jobs, pin_memory=True)                            # Construct dataloader\n",
    "    return dataloader, mean, std"
   ]
  },
  {
   "cell_type": "code",
   "execution_count": 6,
   "metadata": {},
   "outputs": [],
   "source": [
    "class NeuralNet(nn.Module):\n",
    "    ''' A simple fully-connected deep neural network '''\n",
    "    def __init__(self, input_dim):\n",
    "        super(NeuralNet, self).__init__()\n",
    "\n",
    "        # Define your neural network here\n",
    "        # TODO: How to modify this model to achieve better performance?\n",
    "\n",
    "        self.net = nn.Sequential(\n",
    "            nn.Linear(input_dim, 64),\n",
    "            nn.ReLU(),\n",
    "            nn.Linear(64, 16),\n",
    "            nn.ReLU(),\n",
    "            nn.Linear(16,8),\n",
    "            nn.ReLU(),\n",
    "            nn.Linear(8,4),\n",
    "            nn.ReLU(),\n",
    "            nn.Linear(4,1)\n",
    "        )\n",
    "        # Mean squared error loss\n",
    "        self.criterion = nn.MSELoss(reduction='mean')\n",
    "\n",
    "    def forward(self, x):\n",
    "        ''' Given input of size (batch_size x input_dim), compute output of the network '''\n",
    "        return self.net(x).squeeze(1)\n",
    "\n",
    "    def cal_loss(self, pred, target, l1_lambda):\n",
    "        ''' Calculate loss '''\n",
    "        # TODO: you may implement L2 regularization here\n",
    "        loss = self.criterion(pred, target) \n",
    "        \n",
    "        # L1 regularization\n",
    "        l1_reg = torch.tensor(0.).to(device)\n",
    "        for param in model.parameters():\n",
    "            l1_reg += torch.sum(torch.abs(param))\n",
    "        loss += l1_lambda * l1_reg\n",
    "        \n",
    "        return loss"
   ]
  },
  {
   "cell_type": "code",
   "execution_count": 7,
   "metadata": {},
   "outputs": [],
   "source": [
    "def train(tr_set, dv_set, model, config, device):\n",
    "    ''' DNN training '''\n",
    "\n",
    "    n_epochs = config['n_epochs']  # Maximum number of epochs\n",
    "\n",
    "    # Setup optimizer\n",
    "    optimizer = getattr(torch.optim, config['optimizer'])(\n",
    "        model.parameters(), **config['optim_hparas'])\n",
    "\n",
    "    min_mse = 1000.\n",
    "    loss_record = {'train': [], 'dev': []}      # for recording training loss\n",
    "    early_stop_cnt = 0\n",
    "    epoch = 0\n",
    "    while epoch < n_epochs:\n",
    "        model.train()                           # set model to training mode\n",
    "        for x, y in tr_set:                     # iterate through the dataloader\n",
    "            optimizer.zero_grad()               # set gradient to zero\n",
    "            x, y = x.to(device), y.to(device)   # move data to device (cpu/cuda)\n",
    "            pred = model(x)                     # forward pass (compute output)\n",
    "            mse_loss = model.cal_loss(pred, y, config['l1_lambda'])  # compute loss\n",
    "            mse_loss.backward()                 # compute gradient (backpropagation)\n",
    "            optimizer.step()                    # update model with optimizer\n",
    "            loss_record['train'].append(mse_loss.detach().cpu().item())\n",
    "            \n",
    "        \n",
    "        # After each epoch, test your model on the validation (development) set.\n",
    "        dev_mse = dev(dv_set, model, device)\n",
    "        if dev_mse < min_mse:\n",
    "            # Save model if your model improved\n",
    "            min_mse = dev_mse\n",
    "            print('Saving model (epoch = {:4d}, val_loss = {:.4f})'\n",
    "                .format(epoch + 1, min_mse))\n",
    "            torch.save(model.state_dict(), config['save_path'])  # Save model to specified path\n",
    "            early_stop_cnt = 0\n",
    "        else:\n",
    "            early_stop_cnt += 1\n",
    "\n",
    "        epoch += 1\n",
    "        loss_record['dev'].append(dev_mse)\n",
    "        if early_stop_cnt > config['early_stop']:\n",
    "            # Stop training if your model stops improving for \"config['early_stop']\" epochs.\n",
    "            break\n",
    "\n",
    "    print('Finished training after {} epochs'.format(epoch))\n",
    "    return min_mse, loss_record"
   ]
  },
  {
   "cell_type": "code",
   "execution_count": 8,
   "metadata": {},
   "outputs": [],
   "source": [
    "def dev(dv_set, model, device):\n",
    "    model.eval()                                # set model to evalutation mode\n",
    "    total_loss = 0\n",
    "    for x, y in dv_set:                         # iterate through the dataloader\n",
    "        x, y = x.to(device), y.to(device)       # move data to device (cpu/cuda)\n",
    "        with torch.no_grad():                   # disable gradient calculation\n",
    "            pred = model(x)                     # forward pass (compute output)\n",
    "            mse_loss = model.cal_loss(pred, y, config['l1_lambda'])  # compute loss\n",
    "        total_loss += mse_loss.detach().cpu().item() * len(x)  # accumulate loss\n",
    "    total_loss = total_loss / len(dv_set.dataset)              # compute averaged loss\n",
    "\n",
    "    return total_loss"
   ]
  },
  {
   "cell_type": "code",
   "execution_count": 9,
   "metadata": {},
   "outputs": [],
   "source": [
    "def test(tt_set, model, device):\n",
    "    model.eval()                                # set model to evalutation mode\n",
    "    preds = []\n",
    "    for x in tt_set:                            # iterate through the dataloader\n",
    "        x = x.to(device)                        # move data to device (cpu/cuda)\n",
    "        with torch.no_grad():                   # disable gradient calculation\n",
    "            pred = model(x)                     # forward pass (compute output)\n",
    "            preds.append(pred.detach().cpu())   # collect prediction\n",
    "    preds = torch.cat(preds, dim=0).numpy()     # concatenate all predictions and convert to a numpy array\n",
    "    return preds"
   ]
  },
  {
   "cell_type": "code",
   "execution_count": 10,
   "metadata": {},
   "outputs": [],
   "source": [
    "device = get_device()                 # get the current available device ('cpu' or 'cuda')\n",
    "os.makedirs('models', exist_ok=True)  # The trained model will be saved to ./models/\n",
    "target_only = True                   # TODO: Using 40 states & 2 tested_positive features\n",
    "\n",
    "seed = 459\n",
    "np.random.seed(seed)\n",
    "delta = np.random.normal(loc=0,scale = 0.000001)\n",
    "\n",
    "# TODO: How to tune these hyper-parameters to improve your model's performance?\n",
    "config = {\n",
    "    'n_epochs': 3000,                # maximum number of epochs\n",
    "    'batch_size': 270,               # mini-batch size for dataloader\n",
    "    'optimizer': 'Adam',             # optimization algorithm (optimizer in torch.optim)\n",
    "    'optim_hparas': {                # hyper-parameters for the optimizer (depends on which optimizer you are using)\n",
    "        'lr': 0.003,                 # learning rate of Adam\n",
    "        #'weight_decay': 1e-8        # weight decay (L2 regularization)  \n",
    "    },\n",
    "    'l1_lambda':1e-5 + delta,        # L1 regularization\n",
    "    'early_stop': 200,               # early stopping epochs (the number epochs since your model's last improvement)\n",
    "    'save_path': 'models/model.pth'  # your model will be saved here\n",
    "}\n",
    "\n",
    "\n",
    "myseed = 42069  # set a random seed for reproducibility\n",
    "torch.backends.cudnn.deterministic = True\n",
    "torch.backends.cudnn.benchmark = False\n",
    "np.random.seed(myseed)\n",
    "torch.manual_seed(myseed)\n",
    "if torch.cuda.is_available():\n",
    "    torch.cuda.manual_seed_all(myseed)"
   ]
  },
  {
   "cell_type": "code",
   "execution_count": 11,
   "metadata": {},
   "outputs": [
    {
     "name": "stdout",
     "output_type": "stream",
     "text": [
      "Finished reading the train set of COVID19 Dataset (2160 samples found, each dim = 14)\n",
      "Finished reading the dev set of COVID19 Dataset (540 samples found, each dim = 14)\n",
      "Finished reading the test set of COVID19 Dataset (893 samples found, each dim = 14)\n"
     ]
    }
   ],
   "source": [
    "tr_set, mean, std = prep_dataloader(tr_path, 'train', config['batch_size'], target_only=target_only)\n",
    "dv_set, _, _ = prep_dataloader(tr_path, 'dev', config['batch_size'], target_only=target_only, mean=mean, std=std)\n",
    "tt_set, _, _ = prep_dataloader(tt_path, 'test', config['batch_size'], target_only=target_only, mean=mean, std=std)"
   ]
  },
  {
   "cell_type": "code",
   "execution_count": 12,
   "metadata": {},
   "outputs": [],
   "source": [
    "model = NeuralNet(tr_set.dataset.dim).to(device)  # Construct model and move to device"
   ]
  },
  {
   "cell_type": "code",
   "execution_count": 13,
   "metadata": {
    "scrolled": true
   },
   "outputs": [
    {
     "name": "stdout",
     "output_type": "stream",
     "text": [
      "Saving model (epoch =    1, val_loss = 300.1032)\n",
      "Saving model (epoch =    2, val_loss = 273.5146)\n",
      "Saving model (epoch =    3, val_loss = 212.0148)\n",
      "Saving model (epoch =    4, val_loss = 109.4490)\n",
      "Saving model (epoch =    5, val_loss = 92.2925)\n",
      "Saving model (epoch =    6, val_loss = 72.8641)\n",
      "Saving model (epoch =    7, val_loss = 70.6454)\n",
      "Saving model (epoch =    8, val_loss = 60.1794)\n",
      "Saving model (epoch =    9, val_loss = 53.8301)\n",
      "Saving model (epoch =   10, val_loss = 44.8094)\n",
      "Saving model (epoch =   11, val_loss = 35.8164)\n",
      "Saving model (epoch =   12, val_loss = 26.9466)\n",
      "Saving model (epoch =   13, val_loss = 19.3648)\n",
      "Saving model (epoch =   14, val_loss = 13.3020)\n",
      "Saving model (epoch =   15, val_loss = 9.3729)\n",
      "Saving model (epoch =   16, val_loss = 6.5347)\n",
      "Saving model (epoch =   17, val_loss = 4.5742)\n",
      "Saving model (epoch =   18, val_loss = 3.3096)\n",
      "Saving model (epoch =   19, val_loss = 2.5958)\n",
      "Saving model (epoch =   20, val_loss = 2.1832)\n",
      "Saving model (epoch =   21, val_loss = 1.9018)\n",
      "Saving model (epoch =   22, val_loss = 1.7623)\n",
      "Saving model (epoch =   23, val_loss = 1.6527)\n",
      "Saving model (epoch =   24, val_loss = 1.5785)\n",
      "Saving model (epoch =   25, val_loss = 1.5346)\n",
      "Saving model (epoch =   26, val_loss = 1.5037)\n",
      "Saving model (epoch =   27, val_loss = 1.4926)\n",
      "Saving model (epoch =   28, val_loss = 1.4402)\n",
      "Saving model (epoch =   29, val_loss = 1.3807)\n",
      "Saving model (epoch =   30, val_loss = 1.3460)\n",
      "Saving model (epoch =   31, val_loss = 1.3187)\n",
      "Saving model (epoch =   32, val_loss = 1.3102)\n",
      "Saving model (epoch =   33, val_loss = 1.2885)\n",
      "Saving model (epoch =   34, val_loss = 1.2455)\n",
      "Saving model (epoch =   35, val_loss = 1.2334)\n",
      "Saving model (epoch =   36, val_loss = 1.2106)\n",
      "Saving model (epoch =   38, val_loss = 1.1854)\n",
      "Saving model (epoch =   39, val_loss = 1.1646)\n",
      "Saving model (epoch =   40, val_loss = 1.1630)\n",
      "Saving model (epoch =   41, val_loss = 1.1405)\n",
      "Saving model (epoch =   42, val_loss = 1.1390)\n",
      "Saving model (epoch =   43, val_loss = 1.1275)\n",
      "Saving model (epoch =   46, val_loss = 1.1171)\n",
      "Saving model (epoch =   47, val_loss = 1.0821)\n",
      "Saving model (epoch =   49, val_loss = 1.0610)\n",
      "Saving model (epoch =   50, val_loss = 1.0547)\n",
      "Saving model (epoch =   51, val_loss = 1.0495)\n",
      "Saving model (epoch =   52, val_loss = 1.0388)\n",
      "Saving model (epoch =   54, val_loss = 1.0320)\n",
      "Saving model (epoch =   55, val_loss = 1.0138)\n",
      "Saving model (epoch =   56, val_loss = 1.0067)\n",
      "Saving model (epoch =   57, val_loss = 1.0019)\n",
      "Saving model (epoch =   61, val_loss = 0.9804)\n",
      "Saving model (epoch =   62, val_loss = 0.9755)\n",
      "Saving model (epoch =   63, val_loss = 0.9680)\n",
      "Saving model (epoch =   67, val_loss = 0.9556)\n",
      "Saving model (epoch =   68, val_loss = 0.9521)\n",
      "Saving model (epoch =   70, val_loss = 0.9323)\n",
      "Saving model (epoch =   73, val_loss = 0.9239)\n",
      "Saving model (epoch =   74, val_loss = 0.9216)\n",
      "Saving model (epoch =   76, val_loss = 0.9149)\n",
      "Saving model (epoch =   80, val_loss = 0.9002)\n",
      "Saving model (epoch =   83, val_loss = 0.8890)\n",
      "Saving model (epoch =   93, val_loss = 0.8828)\n",
      "Saving model (epoch =   96, val_loss = 0.8675)\n",
      "Saving model (epoch =   97, val_loss = 0.8634)\n",
      "Saving model (epoch =   99, val_loss = 0.8627)\n",
      "Saving model (epoch =  103, val_loss = 0.8571)\n",
      "Saving model (epoch =  105, val_loss = 0.8525)\n",
      "Saving model (epoch =  107, val_loss = 0.8478)\n",
      "Saving model (epoch =  109, val_loss = 0.8469)\n",
      "Saving model (epoch =  110, val_loss = 0.8468)\n",
      "Saving model (epoch =  113, val_loss = 0.8447)\n",
      "Saving model (epoch =  116, val_loss = 0.8397)\n",
      "Saving model (epoch =  124, val_loss = 0.8373)\n",
      "Saving model (epoch =  126, val_loss = 0.8359)\n",
      "Saving model (epoch =  127, val_loss = 0.8335)\n",
      "Saving model (epoch =  147, val_loss = 0.8301)\n",
      "Saving model (epoch =  153, val_loss = 0.8289)\n",
      "Saving model (epoch =  162, val_loss = 0.8288)\n",
      "Saving model (epoch =  169, val_loss = 0.8273)\n",
      "Saving model (epoch =  173, val_loss = 0.8262)\n",
      "Saving model (epoch =  187, val_loss = 0.8237)\n",
      "Saving model (epoch =  211, val_loss = 0.8231)\n",
      "Saving model (epoch =  212, val_loss = 0.8225)\n",
      "Finished training after 413 epochs\n"
     ]
    }
   ],
   "source": [
    "model_loss, model_loss_record = train(tr_set, dv_set, model, config, device)"
   ]
  },
  {
   "cell_type": "code",
   "execution_count": 14,
   "metadata": {},
   "outputs": [
    {
     "data": {
      "image/png": "[encoded data removed]",
      "text/plain": [
       "<Figure size 432x288 with 1 Axes>"
      ]
     },
     "metadata": {
      "needs_background": "light"
     },
     "output_type": "display_data"
    }
   ],
   "source": [
    "plot_learning_curve(model_loss_record, title='deep model')"
   ]
  },
  {
   "cell_type": "code",
   "execution_count": 15,
   "metadata": {},
   "outputs": [
    {
     "data": {
      "image/png": "[encoded data removed]",
      "text/plain": [
       "<Figure size 360x360 with 1 Axes>"
      ]
     },
     "metadata": {
      "needs_background": "light"
     },
     "output_type": "display_data"
    }
   ],
   "source": [
    "del model\n",
    "model = NeuralNet(tr_set.dataset.dim).to(device)\n",
    "ckpt = torch.load(config['save_path'], map_location='cpu')  # Load your best model\n",
    "model.load_state_dict(ckpt)\n",
    "if len(dv_set) > 0:\n",
    "    plot_pred(dv_set, model, device)  # Show prediction on the validation set"
   ]
  },
  {
   "cell_type": "code",
   "execution_count": 16,
   "metadata": {},
   "outputs": [
    {
     "name": "stdout",
     "output_type": "stream",
     "text": [
      "Saving results to pred.csv\n"
     ]
    }
   ],
   "source": [
    "def save_pred(preds, file):\n",
    "    ''' Save predictions to specified file '''\n",
    "    print('Saving results to {}'.format(file))\n",
    "    with open(file, 'w') as fp:\n",
    "        writer = csv.writer(fp)\n",
    "        writer.writerow(['id', 'tested_positive'])\n",
    "        for i, p in enumerate(preds):\n",
    "            writer.writerow([i, p])\n",
    "\n",
    "preds = test(tt_set, model, device)  # predict COVID-19 cases with your model\n",
    "save_pred(preds, 'pred.csv')         # save prediction file to pred.csv"
   ]
  },
  {
   "cell_type": "markdown",
   "metadata": {},
   "source": [
    "# I use the sample code from TA."
   ]
  }
 ],
 "metadata": {
  "kernelspec": {
   "display_name": "Python 3",
   "language": "python",
   "name": "python3"
  },
  "language_info": {
   "codemirror_mode": {
    "name": "ipython",
    "version": 3
   },
   "file_extension": ".py",
   "mimetype": "text/x-python",
   "name": "python",
   "nbconvert_exporter": "python",
   "pygments_lexer": "ipython3",
   "version": "3.7.6"
  }
 },
 "nbformat": 4,
 "nbformat_minor": 4
}
